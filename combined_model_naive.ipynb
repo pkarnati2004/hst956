{
 "cells": [
  {
   "cell_type": "code",
   "execution_count": 1,
   "metadata": {},
   "outputs": [],
   "source": [
    "import numpy as np\n",
    "import pandas as pd\n",
    "from matplotlib import pyplot as plt\n",
    "import os"
   ]
  },
  {
   "cell_type": "code",
   "execution_count": 2,
   "metadata": {},
   "outputs": [],
   "source": [
    "events_train0 = pd.read_csv('events_train0.csv')\n",
    "events_test0 = pd.read_csv('events_test0.csv')\n",
    "\n",
    "events_train1 = pd.read_csv('events_train1.csv')\n",
    "events_test1 = pd.read_csv('events_test1.csv')\n",
    "\n",
    "events_train2 = pd.read_csv('events_train2.csv')\n",
    "events_test2 = pd.read_csv('events_test2.csv')"
   ]
  },
  {
   "cell_type": "code",
   "execution_count": 3,
   "metadata": {},
   "outputs": [],
   "source": [
    "events_train = events_train0.append(events_train1).append(events_train2)\n",
    "events_test = events_test0.append(events_test1).append(events_test2)\n",
    "\n",
    "events_train.to_csv('events_train.csv')\n",
    "events_test.to_csv('events_test.csv')"
   ]
  },
  {
   "cell_type": "code",
   "execution_count": 4,
   "metadata": {},
   "outputs": [
    {
     "name": "stdout",
     "output_type": "stream",
     "text": [
      "(111, 75)\n"
     ]
    }
   ],
   "source": [
    "print(events_train.shape)"
   ]
  },
  {
   "cell_type": "code",
   "execution_count": 5,
   "metadata": {},
   "outputs": [
    {
     "name": "stdout",
     "output_type": "stream",
     "text": [
      "(35, 75)\n"
     ]
    }
   ],
   "source": [
    "print(events_test.shape)"
   ]
  },
  {
   "cell_type": "code",
   "execution_count": 6,
   "metadata": {},
   "outputs": [
    {
     "name": "stdout",
     "output_type": "stream",
     "text": [
      "Index(['Unnamed: 0.1', 'APOE_e4', 'EDUCYRS', 'HISPLAT', 'HVLTFPRL', 'HVLTRDLY',\n",
      "       'HVLTREC', 'MAPT_cat', 'PD_MED_USE', 'SDMTOTAL', 'SNCA_rs356181_cat',\n",
      "       'SNCA_rs3910105_cat', 'VLTANIM', 'VLTFRUIT', 'VLTVEG', 'ab_asyn',\n",
      "       'abeta', 'age', 'age_cat', 'asyn', 'bjlot', 'educ', 'ess', 'ess_cat',\n",
      "       'fampd_new', 'fampd_old', 'gds', 'gds_cat', 'gen', 'hemohi',\n",
      "       'hvlt_discrimination', 'hvlt_immediaterecall', 'hvlt_retention', 'lns',\n",
      "       'moca', 'quip', 'quip_any', 'quip_buy', 'quip_eat', 'quip_gamble',\n",
      "       'quip_hobby', 'quip_pund', 'quip_sex', 'quip_walk', 'race', 'rem',\n",
      "       'rem_cat', 'rem_q6', 'rigidity', 'scopa', 'scopa_cv', 'scopa_gi',\n",
      "       'scopa_pm', 'scopa_sex', 'scopa_therm', 'scopa_ur', 'sft', 'stai',\n",
      "       'stai_state', 'stai_trait', 'tau', 'tau_asyn', 'urate', 'race_white',\n",
      "       'race_black', 'race_asian', 'race_other', 'Prediction'],\n",
      "      dtype='object')\n"
     ]
    }
   ],
   "source": [
    "x_cols = events_train.columns.drop(['YEAR', 'EVENT_ID', 'PATNO', 'Progression', 'hy', 'APPRDX', 'Unnamed: 0'])\n",
    "events_train_x = events_train[x_cols]\n",
    "events_test_x = events_test[x_cols]\n",
    "events_train_y = events_train['Progression']\n",
    "events_test_y = events_test['Progression']\n",
    "\n",
    "print(events_train_x.columns)"
   ]
  },
  {
   "cell_type": "code",
   "execution_count": 7,
   "metadata": {},
   "outputs": [
    {
     "name": "stdout",
     "output_type": "stream",
     "text": [
      "C=0.01 | p=l1 :: train AUC=0.7962962962962963 ; valid AUC=0.7575757575757576\n",
      "C=0.01 | p=l2 :: train AUC=0.9389978213507626 ; valid AUC=0.7424242424242424\n",
      "C=0.1 | p=l1 :: train AUC=0.9106753812636166 ; valid AUC=0.8181818181818181\n",
      "C=0.1 | p=l2 :: train AUC=0.9989106753812637 ; valid AUC=0.6212121212121211\n",
      "C=0.25 | p=l1 :: train AUC=0.9705882352941178 ; valid AUC=0.7424242424242424\n",
      "C=0.25 | p=l2 :: train AUC=1.0 ; valid AUC=0.6363636363636364\n",
      "C=0.5 | p=l1 :: train AUC=0.9934640522875817 ; valid AUC=0.6363636363636364\n",
      "C=0.5 | p=l2 :: train AUC=1.0 ; valid AUC=0.6363636363636364\n",
      "C=1 | p=l1 :: train AUC=1.0 ; valid AUC=0.7272727272727273\n",
      "C=1 | p=l2 :: train AUC=1.0 ; valid AUC=0.6515151515151515\n",
      "Best model: C = 0.1, penalty: l1\n",
      "test AUC:  0.8181818181818181\n"
     ]
    },
    {
     "name": "stderr",
     "output_type": "stream",
     "text": [
      "/usr/local/lib/python3.7/site-packages/sklearn/linear_model/logistic.py:433: FutureWarning: Default solver will be changed to 'lbfgs' in 0.22. Specify a solver to silence this warning.\n",
      "  FutureWarning)\n",
      "/usr/local/lib/python3.7/site-packages/sklearn/linear_model/logistic.py:433: FutureWarning: Default solver will be changed to 'lbfgs' in 0.22. Specify a solver to silence this warning.\n",
      "  FutureWarning)\n",
      "/usr/local/lib/python3.7/site-packages/sklearn/linear_model/logistic.py:433: FutureWarning: Default solver will be changed to 'lbfgs' in 0.22. Specify a solver to silence this warning.\n",
      "  FutureWarning)\n",
      "/usr/local/lib/python3.7/site-packages/sklearn/linear_model/logistic.py:433: FutureWarning: Default solver will be changed to 'lbfgs' in 0.22. Specify a solver to silence this warning.\n",
      "  FutureWarning)\n",
      "/usr/local/lib/python3.7/site-packages/sklearn/linear_model/logistic.py:433: FutureWarning: Default solver will be changed to 'lbfgs' in 0.22. Specify a solver to silence this warning.\n",
      "  FutureWarning)\n",
      "/usr/local/lib/python3.7/site-packages/sklearn/linear_model/logistic.py:433: FutureWarning: Default solver will be changed to 'lbfgs' in 0.22. Specify a solver to silence this warning.\n",
      "  FutureWarning)\n",
      "/usr/local/lib/python3.7/site-packages/sklearn/linear_model/logistic.py:433: FutureWarning: Default solver will be changed to 'lbfgs' in 0.22. Specify a solver to silence this warning.\n",
      "  FutureWarning)\n",
      "/usr/local/lib/python3.7/site-packages/sklearn/linear_model/logistic.py:433: FutureWarning: Default solver will be changed to 'lbfgs' in 0.22. Specify a solver to silence this warning.\n",
      "  FutureWarning)\n",
      "/usr/local/lib/python3.7/site-packages/sklearn/linear_model/logistic.py:433: FutureWarning: Default solver will be changed to 'lbfgs' in 0.22. Specify a solver to silence this warning.\n",
      "  FutureWarning)\n",
      "/usr/local/lib/python3.7/site-packages/sklearn/linear_model/logistic.py:433: FutureWarning: Default solver will be changed to 'lbfgs' in 0.22. Specify a solver to silence this warning.\n",
      "  FutureWarning)\n"
     ]
    }
   ],
   "source": [
    "from sklearn.linear_model import LogisticRegression \n",
    "from sklearn.metrics import roc_auc_score\n",
    "\n",
    "def select_best_model(train_X, train_y, valid_X, valid_y, C_options, penalty_options):\n",
    "    best_model, best_C, best_penalty, best_score = None, None, None, 0 \n",
    "    for C in C_options:\n",
    "        for penalty in penalty_options:\n",
    "            model = LogisticRegression(C=C, penalty=penalty).fit(train_X, train_y)\n",
    "            train_pred = [p[1] for p in model.predict_proba(train_X)]\n",
    "            train_auc = roc_auc_score(train_y, train_pred)\n",
    "            valid_pred = [p[1] for p in model.predict_proba(valid_X)]\n",
    "            valid_auc = roc_auc_score(valid_y, valid_pred)\n",
    "            print(\"C=\" + str(C) + \" | p=\" + penalty + \" :: train AUC=\" + str(train_auc) + \" ; valid AUC=\" + str(valid_auc))\n",
    "            if valid_auc > best_score:\n",
    "                best_model, best_C, best_penalty, best_score = model, C, penalty, valid_auc\n",
    "    print(\"Best model: C = \" + str(best_C) + \", penalty: \" + str(best_penalty))\n",
    "    return best_model\n",
    "\n",
    "model = select_best_model(events_train_x, events_train_y, events_test_x, events_test_y, [0.01, 0.1, 0.25, 0.5, 1], ['l1', 'l2'])\n",
    "test_pred = [p[1] for p in model.predict_proba(events_test_x)]\n",
    "print(\"test AUC: \", roc_auc_score(events_test_y, test_pred))\n"
   ]
  },
  {
   "cell_type": "code",
   "execution_count": 8,
   "metadata": {},
   "outputs": [
    {
     "name": "stdout",
     "output_type": "stream",
     "text": [
      "MOST POSIVITE ++\n",
      "bjlot: 0.04820620601324054\n",
      "age: 0.030322847721765127\n",
      "PD_MED_USE: 0.01540261313833261\n",
      "asyn: 0.0012118620841218143\n",
      "Unnamed: 0.1: 0.0002727152529023506\n",
      "APOE_e4: 0.0\n",
      "EDUCYRS: 0.0\n",
      "HISPLAT: 0.0\n",
      "HVLTFPRL: 0.0\n",
      "HVLTRDLY: 0.0\n",
      "\n",
      "MOST NEGATIVE --\n",
      "HVLTREC: -0.24539061677573926\n",
      "abeta: -0.0038807356307881133\n",
      "urate: -0.0032742879446136324\n",
      "tau: -0.0014634031320099835\n",
      "Prediction: 0.0\n",
      "race_other: 0.0\n",
      "race_asian: 0.0\n",
      "race_black: 0.0\n",
      "race_white: 0.0\n",
      "tau_asyn: 0.0\n",
      "\n",
      "bjlot: 0.04820620601324054\n",
      "age: 0.030322847721765127\n",
      "PD_MED_USE: 0.01540261313833261\n",
      "asyn: 0.0012118620841218143\n",
      "Unnamed: 0.1: 0.0002727152529023506\n",
      "APOE_e4: 0.0\n",
      "EDUCYRS: 0.0\n",
      "HISPLAT: 0.0\n",
      "HVLTFPRL: 0.0\n",
      "HVLTRDLY: 0.0\n",
      "MAPT_cat: 0.0\n",
      "SDMTOTAL: 0.0\n",
      "SNCA_rs356181_cat: 0.0\n",
      "SNCA_rs3910105_cat: 0.0\n",
      "VLTANIM: 0.0\n",
      "VLTFRUIT: 0.0\n",
      "VLTVEG: 0.0\n",
      "ab_asyn: 0.0\n",
      "age_cat: 0.0\n",
      "educ: 0.0\n",
      "ess: 0.0\n",
      "ess_cat: 0.0\n",
      "fampd_new: 0.0\n",
      "fampd_old: 0.0\n",
      "gds: 0.0\n",
      "gds_cat: 0.0\n",
      "gen: 0.0\n",
      "hemohi: 0.0\n",
      "hvlt_discrimination: 0.0\n",
      "hvlt_immediaterecall: 0.0\n",
      "hvlt_retention: 0.0\n",
      "lns: 0.0\n",
      "moca: 0.0\n",
      "quip: 0.0\n",
      "quip_any: 0.0\n",
      "quip_buy: 0.0\n",
      "quip_eat: 0.0\n",
      "quip_gamble: 0.0\n",
      "quip_hobby: 0.0\n",
      "quip_pund: 0.0\n",
      "quip_sex: 0.0\n",
      "quip_walk: 0.0\n",
      "race: 0.0\n",
      "rem: 0.0\n",
      "rem_cat: 0.0\n",
      "rem_q6: 0.0\n",
      "rigidity: 0.0\n",
      "scopa: 0.0\n",
      "scopa_cv: 0.0\n",
      "scopa_gi: 0.0\n",
      "scopa_pm: 0.0\n",
      "scopa_sex: 0.0\n",
      "scopa_therm: 0.0\n",
      "scopa_ur: 0.0\n",
      "sft: 0.0\n",
      "stai: 0.0\n",
      "stai_state: 0.0\n",
      "stai_trait: 0.0\n",
      "tau_asyn: 0.0\n",
      "race_white: 0.0\n",
      "race_black: 0.0\n",
      "race_asian: 0.0\n",
      "race_other: 0.0\n",
      "Prediction: 0.0\n",
      "tau: -0.0014634031320099835\n",
      "urate: -0.0032742879446136324\n"
     ]
    }
   ],
   "source": [
    "def sort_features(model, features):\n",
    "    coef = model.coef_\n",
    "    feature_coef = [(features[i], coef[0,i]) for i in range(len(features))]\n",
    "    sorted_feature_coef = sorted(feature_coef, key=lambda x: -x[1]) \n",
    "    return sorted_feature_coef\n",
    "\n",
    "def display_most_predictive_features(sorted_features, n, positive=True): \n",
    "    if positive:\n",
    "        for i in range(n):\n",
    "            print(sorted_features[i][0] + \": \" + str(sorted_features[i][1]))\n",
    "    else:\n",
    "        for i in range(len(sorted_features) - 1, len(sorted_features) - 1 - n, -1):\n",
    "            print(sorted_features[i][0] + \": \" + str(sorted_features[i][1]))\n",
    "\n",
    "feat = sort_features(model, list(events_train_x.columns))\n",
    "print(\"MOST POSIVITE ++\")\n",
    "display_most_predictive_features(feat, 10)\n",
    "print()\n",
    "print(\"MOST NEGATIVE --\")\n",
    "display_most_predictive_features(feat, 10, False)\n",
    "print()\n",
    "display_most_predictive_features(feat, 66)"
   ]
  },
  {
   "cell_type": "code",
   "execution_count": null,
   "metadata": {},
   "outputs": [],
   "source": []
  }
 ],
 "metadata": {
  "kernelspec": {
   "display_name": "Python 3",
   "language": "python",
   "name": "python3"
  },
  "language_info": {
   "codemirror_mode": {
    "name": "ipython",
    "version": 3
   },
   "file_extension": ".py",
   "mimetype": "text/x-python",
   "name": "python",
   "nbconvert_exporter": "python",
   "pygments_lexer": "ipython3",
   "version": "3.7.0"
  }
 },
 "nbformat": 4,
 "nbformat_minor": 2
}
