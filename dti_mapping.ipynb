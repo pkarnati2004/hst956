{
 "cells": [
  {
   "cell_type": "code",
   "execution_count": 1,
   "metadata": {},
   "outputs": [],
   "source": [
    "import numpy as np\n",
    "import pandas as pd\n",
    "from matplotlib import pyplot as plt\n",
    "from scipy import stats\n",
    "import os"
   ]
  },
  {
   "cell_type": "code",
   "execution_count": 21,
   "metadata": {},
   "outputs": [
    {
     "name": "stdout",
     "output_type": "stream",
     "text": [
      "(1200, 14)\n"
     ]
    }
   ],
   "source": [
    "mri_df = pd.read_csv('mri_progression.csv')\n",
    "dti_df = pd.read_csv('DTI_Regions_of_Interest.csv')\n",
    "\n",
    "dti_df.index = pd.Series([i for i in range(dti_df.shape[0])])\n",
    "print(dti_df.shape)"
   ]
  },
  {
   "cell_type": "code",
   "execution_count": 14,
   "metadata": {},
   "outputs": [],
   "source": [
    "def reformat_date(dt_i):\n",
    "    dt = mri_df.iloc[dt_i]['Acq Date']\n",
    "    elements = dt.split('/')\n",
    "    return elements[0] + '/' + elements[2]\n",
    "\n",
    "mri_df['Cut Date'] = pd.Series([reformat_date(i) for i in mri_df.index])"
   ]
  },
  {
   "cell_type": "code",
   "execution_count": 20,
   "metadata": {},
   "outputs": [
    {
     "name": "stdout",
     "output_type": "stream",
     "text": [
      "1.0    200\n",
      "0.0     56\n",
      "Name: Visit, dtype: int64\n",
      "269992.0    64\n",
      "362000.0    52\n",
      "410941.0    36\n",
      "282787.0    32\n",
      "287999.0    28\n",
      "344402.0    20\n",
      "224193.0    16\n",
      "223775.0     4\n",
      "223765.0     4\n",
      "Name: Image Data ID, dtype: int64\n"
     ]
    }
   ],
   "source": [
    "def match_dti(row_index):\n",
    "    dti_row = dti_df.iloc[row_index]\n",
    "    dti_date = dti_row['INFODT']\n",
    "    \n",
    "    mri_row = mri_df[mri_df['Cut Date'] == dti_date]\n",
    "    \n",
    "    if (mri_row['Visit'].size):\n",
    "        mri_visit = mri_row['Visit'].iloc[0]\n",
    "    else:\n",
    "        mri_visit = None\n",
    "        \n",
    "    if (mri_row['Image Data ID'].size):\n",
    "        mri_img = mri_row['Image Data ID'].iloc[0]\n",
    "    else:\n",
    "        mri_img = None\n",
    "    \n",
    "    return [mri_visit, mri_img]\n",
    "\n",
    "dti_df['Visit'] = [match_dti(i)[0] for i in dti_df.index]\n",
    "dti_df['Image Data ID'] = [match_dti(i)[1] for i in dti_df.index]\n",
    "\n",
    "print(dti_df['Visit'].value_counts())\n",
    "print(dti_df['Image Data ID'].value_counts())"
   ]
  },
  {
   "cell_type": "code",
   "execution_count": null,
   "metadata": {},
   "outputs": [],
   "source": []
  }
 ],
 "metadata": {
  "kernelspec": {
   "display_name": "Python 3",
   "language": "python",
   "name": "python3"
  },
  "language_info": {
   "codemirror_mode": {
    "name": "ipython",
    "version": 3
   },
   "file_extension": ".py",
   "mimetype": "text/x-python",
   "name": "python",
   "nbconvert_exporter": "python",
   "pygments_lexer": "ipython3",
   "version": "3.7.0"
  }
 },
 "nbformat": 4,
 "nbformat_minor": 2
}
