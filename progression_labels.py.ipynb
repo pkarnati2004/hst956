{
 "cells": [
  {
   "cell_type": "code",
   "execution_count": 2,
   "metadata": {},
   "outputs": [],
   "source": [
    "import numpy as np\n",
    "import pandas as pd\n",
    "from matplotlib import pyplot as plt\n",
    "import os"
   ]
  },
  {
   "cell_type": "code",
   "execution_count": 3,
   "metadata": {},
   "outputs": [],
   "source": [
    "## Load Datasets\n",
    "baseline_df = pd.read_csv('Curated_Data_Cuts_Files/PPMI_Baseline_Data_02Jul2018.csv')\n",
    "years_df = pd.read_csv('Curated_Data_Cuts_Files/PPMI_Year_1-3_Data_02Jul2018.csv')\n",
    "mri_df = pd.read_csv('MRI.csv')"
   ]
  },
  {
   "cell_type": "code",
   "execution_count": 4,
   "metadata": {},
   "outputs": [],
   "source": [
    "## Get patients that have both baseline and year progression data\n",
    "baseline_patno_counts = baseline_df[\"PATNO\"].value_counts()\n",
    "baseline_ids = baseline_patno_counts.index\n",
    "years_patno_counts = years_df[\"PATNO\"].value_counts()\n",
    "years_ids = years_patno_counts.index\n",
    "mri_subject_counts = mri_df[\"Subject\"].value_counts()\n",
    "mri_ids = mri_subject_counts.index\n",
    "stage_data_ids = pd.Series(list(set(years_ids) & set(baseline_ids) & set(mri_ids)))\n",
    "\n",
    "baseline_df = baseline_df[baseline_df['PATNO'].isin(stage_data_ids)]\n",
    "years_df = years_df[years_df['PATNO'].isin(stage_data_ids)]\n",
    "mri_df = mri_df[mri_df['Subject'].isin(stage_data_ids)]"
   ]
  },
  {
   "cell_type": "code",
   "execution_count": 5,
   "metadata": {},
   "outputs": [
    {
     "name": "stdout",
     "output_type": "stream",
     "text": [
      "(564,)\n"
     ]
    }
   ],
   "source": [
    "print(stage_data_ids.shape)"
   ]
  },
  {
   "cell_type": "code",
   "execution_count": 6,
   "metadata": {},
   "outputs": [
    {
     "name": "stdout",
     "output_type": "stream",
     "text": [
      "2    587\n",
      "0    491\n",
      ".    249\n",
      "1    216\n",
      "3     46\n",
      "Name: hy, dtype: int64\n"
     ]
    }
   ],
   "source": [
    "years_stages_counts = years_df[\"hy\"].value_counts()\n",
    "print(years_stages_counts)"
   ]
  },
  {
   "cell_type": "code",
   "execution_count": 7,
   "metadata": {},
   "outputs": [],
   "source": [
    "def stage_row(patno):\n",
    "    dur = baseline_df[baseline_df['PATNO'] == patno]['duration'].iloc[0]\n",
    "    bl_hy = baseline_df[baseline_df['PATNO'] == patno]['hy'].iloc[0]\n",
    "    \n",
    "    years_rows = years_df[years_df['PATNO'] == patno]\n",
    "    \n",
    "    y1 = years_rows[years_rows['YEAR'] == 1]\n",
    "    if (y1.shape[0] > 0):\n",
    "        y1_hy = y1['hy'].iloc[0]\n",
    "    else:\n",
    "        y1_hy = '.'\n",
    "        \n",
    "    y2 = years_rows[years_rows['YEAR'] == 2]\n",
    "    if (y2.shape[0] > 0):\n",
    "        y2_hy = y2['hy'].iloc[0]\n",
    "    else:\n",
    "        y2_hy = '.'\n",
    "        \n",
    "    y3 = years_rows[years_rows['YEAR'] == 3]\n",
    "    if (y3.shape[0] > 0):\n",
    "        y3_hy = y3['hy'].iloc[0]\n",
    "    else:\n",
    "        y3_hy = '.'\n",
    "    \n",
    "    new_row = pd.DataFrame([[patno, dur, bl_hy, y1_hy, y2_hy, y3_hy]])\n",
    "    return new_row\n",
    "\n",
    "stage_df = pd.concat([stage_row(i) for i in stage_data_ids], ignore_index=True)\n",
    "stage_df.columns = ['PATNO', 'duration', 'bl_hy', 'y1_hy', 'y2_hy', 'y3_hy']\n",
    "\n",
    "# print(stage_df)"
   ]
  },
  {
   "cell_type": "code",
   "execution_count": 8,
   "metadata": {},
   "outputs": [
    {
     "name": "stdout",
     "output_type": "stream",
     "text": [
      "Index(['Image Data ID', 'Subject', 'Group', 'Sex', 'Age', 'Visit', 'Modality',\n",
      "       'Description', 'Type', 'Acq Date', 'Format', 'Downloaded'],\n",
      "      dtype='object')\n"
     ]
    }
   ],
   "source": [
    "print(mri_df.columns)"
   ]
  },
  {
   "cell_type": "code",
   "execution_count": 69,
   "metadata": {},
   "outputs": [],
   "source": [
    "def prog_label(image_id):\n",
    "    img_row = mri_df[mri_df['Image Data ID'] == image_id]\n",
    "    pat_row = stage_df[stage_df['PATNO'] == img_row['Subject'].iloc[0]]\n",
    "    visit = int(img_row['Visit'])\n",
    "    \n",
    "    bl = pat_row['bl_hy'].iloc[0]\n",
    "    y1 = pat_row['y1_hy'].iloc[0]\n",
    "    y2 = pat_row['y2_hy'].iloc[0]\n",
    "    y3 = pat_row['y3_hy'].iloc[0]\n",
    "    \n",
    "    if visit < 12 and bl != '.' and y1 != '.':\n",
    "        label = int(y1 > bl)\n",
    "        stage = bl\n",
    "    elif visit < 24 and y1 != '.' and y2 != '.':\n",
    "        label = int(y2 > y1)\n",
    "        stage = y1\n",
    "    elif visit < 36 and y2 != '.' and y3 != '.':\n",
    "        label = int(y3 > y2)\n",
    "        stage = y2\n",
    "    else:\n",
    "        label = -1\n",
    "        stage = y3\n",
    "    \n",
    "    return [label, stage]\n",
    "    \n",
    "# mri_labels = pd.DataFrame([prog_label(i) for i in mri_df['Image Data ID']], columns=['Progression', 'Stage'])\n",
    "mri_df['Progression'] = [prog_label(i)[0] for i in mri_df['Image Data ID']]\n",
    "mri_df['Stage'] = [prog_label(i)[1] for i in mri_df['Image Data ID']]"
   ]
  },
  {
   "cell_type": "code",
   "execution_count": 72,
   "metadata": {},
   "outputs": [
    {
     "name": "stdout",
     "output_type": "stream",
     "text": [
      " 0    3732\n",
      "-1     975\n",
      " 1     786\n",
      "Name: Progression, dtype: int64\n",
      "2    1850\n",
      "1    1441\n",
      "0    1346\n",
      ".     810\n",
      "3      46\n",
      "Name: Stage, dtype: int64\n"
     ]
    }
   ],
   "source": [
    "# print(mri_labels)\n",
    "print(mri_df['Progression'].value_counts(dropna=False))\n",
    "print(mri_df['Stage'].value_counts(dropna=False))"
   ]
  },
  {
   "cell_type": "code",
   "execution_count": 73,
   "metadata": {},
   "outputs": [
    {
     "name": "stdout",
     "output_type": "stream",
     "text": [
      "975\n",
      "(5493, 14)\n"
     ]
    }
   ],
   "source": [
    "no_prog = mri_df[mri_df['Progression'] == -1].index\n",
    "# print(no_prog[0])\n",
    "no_stage = mri_df[mri_df['Stage'] == '.'].index\n",
    "missing_data = list(set(no_prog) | set(no_stage))\n",
    "print(len(missing_data))\n",
    "print(mri_df.shape)\n",
    "# print(missing_data[0])"
   ]
  },
  {
   "cell_type": "code",
   "execution_count": 74,
   "metadata": {},
   "outputs": [
    {
     "name": "stdout",
     "output_type": "stream",
     "text": [
      "(4518, 14)\n"
     ]
    }
   ],
   "source": [
    "mri_complete = mri_df.drop(index=missing_data)\n",
    "print(mri_complete.shape)"
   ]
  },
  {
   "cell_type": "code",
   "execution_count": 89,
   "metadata": {},
   "outputs": [],
   "source": [
    "mri_complete.to_csv('mri_progression.csv')"
   ]
  },
  {
   "cell_type": "code",
   "execution_count": 79,
   "metadata": {},
   "outputs": [
    {
     "name": "stdout",
     "output_type": "stream",
     "text": [
      "(1313, 14)\n",
      "(54, 14)\n"
     ]
    }
   ],
   "source": [
    "aa = mri_complete[mri_complete['Stage'] == '0']\n",
    "print(aa.shape)\n",
    "aa = aa[aa['Progression'] == 1]\n",
    "print(aa.shape)"
   ]
  },
  {
   "cell_type": "code",
   "execution_count": 82,
   "metadata": {},
   "outputs": [
    {
     "name": "stdout",
     "output_type": "stream",
     "text": [
      "(2681, 14)\n"
     ]
    }
   ],
   "source": [
    "mri_t2 = mri_complete[mri_complete['Description'].str.contains('T2')]\n",
    "print(mri_t2.shape)"
   ]
  },
  {
   "cell_type": "code",
   "execution_count": 86,
   "metadata": {},
   "outputs": [
    {
     "name": "stdout",
     "output_type": "stream",
     "text": [
      "(4, 14)\n",
      "(0, 14)\n"
     ]
    }
   ],
   "source": [
    "aa = mri_t2[mri_t2['Stage'] == '3']\n",
    "print(aa.shape)\n",
    "aa = aa[aa['Progression'] == 1]\n",
    "print(aa.shape)"
   ]
  },
  {
   "cell_type": "code",
   "execution_count": 88,
   "metadata": {},
   "outputs": [],
   "source": [
    "mri_t2.to_csv('mri_t2_progression.csv')"
   ]
  },
  {
   "cell_type": "code",
   "execution_count": null,
   "metadata": {},
   "outputs": [],
   "source": []
  }
 ],
 "metadata": {
  "kernelspec": {
   "display_name": "Python 3",
   "language": "python",
   "name": "python3"
  },
  "language_info": {
   "codemirror_mode": {
    "name": "ipython",
    "version": 3
   },
   "file_extension": ".py",
   "mimetype": "text/x-python",
   "name": "python",
   "nbconvert_exporter": "python",
   "pygments_lexer": "ipython3",
   "version": "3.7.0"
  }
 },
 "nbformat": 4,
 "nbformat_minor": 2
}
