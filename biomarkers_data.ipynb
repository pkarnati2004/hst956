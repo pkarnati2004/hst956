{
 "cells": [
  {
   "cell_type": "code",
   "execution_count": 1,
   "metadata": {},
   "outputs": [],
   "source": [
    "import numpy as np\n",
    "import pandas as pd\n",
    "from matplotlib import pyplot as plt\n",
    "from scipy import stats\n",
    "import os"
   ]
  },
  {
   "cell_type": "code",
   "execution_count": 2,
   "metadata": {},
   "outputs": [],
   "source": [
    "baseline_df = pd.read_csv('Curated_Data_Cuts_Files/PPMI_Baseline_Data_02Jul2018.csv')\n",
    "years_df = pd.read_csv('Curated_Data_Cuts_Files/PPMI_Year_1-3_Data_02Jul2018.csv')\n",
    "mri_df = pd.read_csv('download/Magnetic_Resonance_Imaging.csv')"
   ]
  },
  {
   "cell_type": "code",
   "execution_count": 3,
   "metadata": {},
   "outputs": [],
   "source": [
    "## Get patient numbers with MRI scans\n",
    "mri_patno_counts = mri_df[\"PATNO\"].value_counts()\n",
    "mri_ids = mri_patno_counts.index"
   ]
  },
  {
   "cell_type": "code",
   "execution_count": 4,
   "metadata": {},
   "outputs": [],
   "source": [
    "## Get patient numbers with critical info and MRI scans\n",
    "baseline_patno_counts = baseline_df[\"PATNO\"].value_counts()\n",
    "baseline_ids = baseline_patno_counts.index\n",
    "# print(len(baseline_ids))\n",
    "years_patno_counts = years_df[\"PATNO\"].value_counts()\n",
    "years_ids = years_patno_counts.index\n",
    "# print(len(years_ids))\n",
    "stage_data_ids = pd.Series(list(set(years_ids) & set(baseline_ids)))\n",
    "# print(stage_data_ids.shape)\n",
    "both_ids = pd.Series(list(set(stage_data_ids) & set(mri_ids)))\n",
    "# print(both_ids.shape)"
   ]
  },
  {
   "cell_type": "code",
   "execution_count": 5,
   "metadata": {},
   "outputs": [],
   "source": [
    "## Limit dfs to relevant patient numbers\n",
    "baseline_df = baseline_df[baseline_df['PATNO'].isin(both_ids)]\n",
    "years_df = years_df[years_df['PATNO'].isin(both_ids)]\n",
    "mri_df = mri_df[mri_df['PATNO'].isin(both_ids)]"
   ]
  },
  {
   "cell_type": "code",
   "execution_count": 6,
   "metadata": {},
   "outputs": [],
   "source": [
    "## Define columns in years biomarker df\n",
    "years_df.set_index('EVENT_ID')\n",
    "years_col = years_df.columns\n",
    "\n",
    "years_col_discard = [\n",
    "    'EVENT_ID', 'SITE', 'hy_on', 'NHY', 'NHY_ON',\n",
    "    'NP1ANXS', 'NP1APAT', 'NP1COG', 'NP1DDS', 'NP1DPRS', 'NP1FATG', 'NP1HALL',\n",
    "    'othneuro', 'updrs1_score', 'updrs2_score', 'updrs3_score', 'updrs3_score', 'updrs_totscore', 'updrs_totscore_on'\n",
    "]\n",
    "years_col_keep = years_col.drop(years_col_discard)\n",
    "col_stage = 'hy'\n",
    "\n",
    "years_bm = years_df[years_col_keep]"
   ]
  },
  {
   "cell_type": "code",
   "execution_count": 31,
   "metadata": {},
   "outputs": [],
   "source": [
    "## Define columns in baseline biomarker df\n",
    "baseline_col = baseline_df.columns\n",
    "same_col = years_col.intersection(baseline_col)\n",
    "same_col = same_col.drop(['PATNO'])\n",
    "only_baseline_col = baseline_col.drop(same_col)\n",
    "baseline_col_keep = only_baseline_col.drop(['symptom5_comment', 'APOE', 'SNCA_rs356181', 'SNCA_rs3910105', 'MAPT']) ## this is mostly null\n",
    "baseline_bm = baseline_df[baseline_col_keep]"
   ]
  },
  {
   "cell_type": "code",
   "execution_count": 8,
   "metadata": {},
   "outputs": [
    {
     "name": "stdout",
     "output_type": "stream",
     "text": [
      "(1783, 133)\n"
     ]
    }
   ],
   "source": [
    "## Merge baseline data into years data\n",
    "merged_df = years_bm.merge(baseline_bm, on='PATNO', suffixes=(False, '_bl'))\n",
    "print(merged_df.shape)"
   ]
  },
  {
   "cell_type": "code",
   "execution_count": 9,
   "metadata": {},
   "outputs": [],
   "source": [
    "## Standardize null format, keep biomarkers with >=80% representation\n",
    "merged_df_nulls = merged_df.replace('.', np.nan)\n",
    "col_nulls = merged_df_nulls.isnull().sum(axis = 0) / merged_df.shape[0]\n",
    "merged_col_keep = [i for i in (col_nulls < 0.2).index if (col_nulls < 0.2)[i]]\n",
    "merged_bm = merged_df_nulls[merged_col_keep]"
   ]
  },
  {
   "cell_type": "code",
   "execution_count": 10,
   "metadata": {},
   "outputs": [
    {
     "name": "stdout",
     "output_type": "stream",
     "text": [
      "(1154, 78)\n"
     ]
    }
   ],
   "source": [
    "## Remove rows with nulls from merged data\n",
    "merged_bm_hasna = merged_bm[merged_bm.isna().any(axis=1)]\n",
    "drop_rows = merged_bm_hasna.index\n",
    "# print(drop_rows.shape)  ## this is the amt of rows dropped\n",
    "merged_full = merged_bm.drop(drop_rows)\n",
    "print(merged_full.shape)"
   ]
  },
  {
   "cell_type": "code",
   "execution_count": 11,
   "metadata": {},
   "outputs": [],
   "source": [
    "for i in merged_full.columns:\n",
    "    merged_full[i] = pd.to_numeric(merged_full[i],errors='coerce')"
   ]
  },
  {
   "cell_type": "code",
   "execution_count": 32,
   "metadata": {},
   "outputs": [],
   "source": [
    "merged_full.to_csv('cleaned_critical_biomarkers_data.csv')"
   ]
  },
  {
   "cell_type": "code",
   "execution_count": null,
   "metadata": {},
   "outputs": [],
   "source": []
  },
  {
   "cell_type": "code",
   "execution_count": 33,
   "metadata": {},
   "outputs": [],
   "source": [
    "test_cols = ['hy', 'urate', 'age', 'gen', 'race', 'APOE_e4', 'SNCA_rs356181_cat', 'SNCA_rs3910105_cat', 'MAPT_cat', 'moca']\n",
    "test_set = merged_full[test_cols].head(100)\n",
    "test_set.to_csv('test_biomarkers_data.csv')"
   ]
  },
  {
   "cell_type": "code",
   "execution_count": 34,
   "metadata": {},
   "outputs": [],
   "source": [
    "test_zscore = stats.zscore(test_set, axis=0, ddof=1)\n",
    "test_set_norm = pd.DataFrame(test_zscore, index=test_set.index)\n",
    "test_set.to_csv('sustain/test_data/test_biomarkers_data_norm.csv')\n",
    "# print(test_set_norm.head(1))"
   ]
  },
  {
   "cell_type": "code",
   "execution_count": 35,
   "metadata": {},
   "outputs": [
    {
     "name": "stdout",
     "output_type": "stream",
     "text": [
      "(1, 10)\n"
     ]
    }
   ],
   "source": [
    "test_min_zscore = pd.DataFrame(test_set_norm.min(axis=0)).T\n",
    "print(test_min_zscore.shape)\n",
    "test_min_zscore.to_csv('sustain/test_data/test_min_zscore.csv')"
   ]
  },
  {
   "cell_type": "code",
   "execution_count": 36,
   "metadata": {},
   "outputs": [
    {
     "name": "stdout",
     "output_type": "stream",
     "text": [
      "(1, 10)\n"
     ]
    }
   ],
   "source": [
    "test_max_zscore = pd.DataFrame(test_set_norm.max(axis=0)).T\n",
    "print(test_max_zscore.shape)\n",
    "test_max_zscore.to_csv('sustain/test_data/test_max_zscore.csv')"
   ]
  },
  {
   "cell_type": "code",
   "execution_count": 37,
   "metadata": {},
   "outputs": [
    {
     "name": "stdout",
     "output_type": "stream",
     "text": [
      "(1, 10)\n",
      "     0    1    2    3    4    5    6    7    8    9\n",
      "0  1.0  1.0  1.0  1.0  1.0  1.0  1.0  1.0  1.0  1.0\n"
     ]
    }
   ],
   "source": [
    "test_std_zscore = pd.DataFrame(test_set_norm.std(axis=0)).T\n",
    "print(test_std_zscore.shape)\n",
    "print(test_std_zscore)\n",
    "test_std_zscore.to_csv('sustain/test_data/test_std_zscore.csv')"
   ]
  },
  {
   "cell_type": "code",
   "execution_count": 19,
   "metadata": {},
   "outputs": [],
   "source": [
    "test_stage_zscore = pd.DataFrame(test_set_norm.mean(axis=0)).T\n",
    "# print(test_stage_zscore)\n",
    "test_bm_index = pd.DataFrame([[i for i in range(10)]])\n",
    "# print(test_bm_index)"
   ]
  },
  {
   "cell_type": "code",
   "execution_count": 29,
   "metadata": {},
   "outputs": [],
   "source": [
    "import sustain_funcs"
   ]
  },
  {
   "cell_type": "code",
   "execution_count": 30,
   "metadata": {},
   "outputs": [
    {
     "name": "stdout",
     "output_type": "stream",
     "text": [
      "Finding ML solution to 1 cluster problem\n",
      " ++ startpoint 0\n"
     ]
    },
    {
     "ename": "IndexError",
     "evalue": "index -1 is out of bounds for axis 0 with size 0",
     "output_type": "error",
     "traceback": [
      "\u001b[0;31m---------------------------------------------------------------------------\u001b[0m",
      "\u001b[0;31mIndexError\u001b[0m                                Traceback (most recent call last)",
      "\u001b[0;32m<ipython-input-30-cd942f6f0b76>\u001b[0m in \u001b[0;36m<module>\u001b[0;34m\u001b[0m\n\u001b[1;32m     12\u001b[0m     \u001b[0;34m'Approx'\u001b[0m\u001b[0;34m,\u001b[0m\u001b[0;34m\u001b[0m\u001b[0m\n\u001b[1;32m     13\u001b[0m     \u001b[0;34m'sustain'\u001b[0m\u001b[0;34m,\u001b[0m\u001b[0;34m\u001b[0m\u001b[0m\n\u001b[0;32m---> 14\u001b[0;31m     \u001b[0;34m'Test Critical Biomarker Set'\u001b[0m\u001b[0;34m\u001b[0m\u001b[0m\n\u001b[0m\u001b[1;32m     15\u001b[0m )\n",
      "\u001b[0;32m~/Dropbox (MIT)/6.S897/final/sustain_funcs.py\u001b[0m in \u001b[0;36mrun_sustain_algorithm\u001b[0;34m(data, min_biomarker_zscore, max_biomarker_zscore, std_biomarker_zscore, stage_zscore, stage_biomarker_index, N_startpoints, N_S_max, N_iterations_MCMC, likelihood_flag, output_folder, dataset_name)\u001b[0m\n\u001b[1;32m     94\u001b[0m                                                                                                                                                  \u001b[0mml_f_prev_EM\u001b[0m\u001b[0;34m,\u001b[0m\u001b[0;34m\u001b[0m\u001b[0m\n\u001b[1;32m     95\u001b[0m                                                                                                                                                  \u001b[0mN_startpoints\u001b[0m\u001b[0;34m,\u001b[0m\u001b[0;34m\u001b[0m\u001b[0m\n\u001b[0;32m---> 96\u001b[0;31m                                                                                                                                                  likelihood_flag)\n\u001b[0m\u001b[1;32m     97\u001b[0m         \u001b[0mseq_init\u001b[0m \u001b[0;34m=\u001b[0m \u001b[0mml_sequence_EM\u001b[0m\u001b[0;34m\u001b[0m\u001b[0m\n\u001b[1;32m     98\u001b[0m         \u001b[0mf_init\u001b[0m \u001b[0;34m=\u001b[0m \u001b[0mml_f_EM\u001b[0m\u001b[0;34m\u001b[0m\u001b[0m\n",
      "\u001b[0;32m~/Dropbox (MIT)/6.S897/final/sustain_funcs.py\u001b[0m in \u001b[0;36mestimate_ml_sustain_model_nplus1_clusters\u001b[0;34m(data, min_biomarker_zscore, max_biomarker_zscore, std_biomarker_zscore, stage_zscore, stage_biomarker_index, ml_sequence_prev, ml_f_prev, N_startpoints, likelihood_flag)\u001b[0m\n\u001b[1;32m    211\u001b[0m                                                                                                               \u001b[0mstage_biomarker_index\u001b[0m\u001b[0;34m,\u001b[0m\u001b[0;34m\u001b[0m\u001b[0m\n\u001b[1;32m    212\u001b[0m                                                                                                               \u001b[0mN_startpoints\u001b[0m\u001b[0;34m,\u001b[0m\u001b[0;34m\u001b[0m\u001b[0m\n\u001b[0;32m--> 213\u001b[0;31m                                                                                                               likelihood_flag)\n\u001b[0m\u001b[1;32m    214\u001b[0m         \u001b[0mprint\u001b[0m\u001b[0;34m(\u001b[0m\u001b[0;34m'Overall ML likelihood is'\u001b[0m\u001b[0;34m,\u001b[0m\u001b[0mml_likelihood\u001b[0m\u001b[0;34m)\u001b[0m\u001b[0;34m\u001b[0m\u001b[0m\n\u001b[1;32m    215\u001b[0m     \u001b[0;32melse\u001b[0m\u001b[0;34m:\u001b[0m\u001b[0;34m\u001b[0m\u001b[0m\n",
      "\u001b[0;32m~/Dropbox (MIT)/6.S897/final/sustain_funcs.py\u001b[0m in \u001b[0;36mfind_ml_linearzscoremodel\u001b[0;34m(data, min_biomarker_zscore, max_biomarker_zscore, std_biomarker_zscore, stage_zscore, stage_biomarker_index, N_startpoints, likelihood_flag)\u001b[0m\n\u001b[1;32m    351\u001b[0m         \u001b[0mprint\u001b[0m\u001b[0;34m(\u001b[0m\u001b[0;34m' ++ startpoint'\u001b[0m\u001b[0;34m,\u001b[0m\u001b[0mstartpoint\u001b[0m\u001b[0;34m)\u001b[0m\u001b[0;34m\u001b[0m\u001b[0m\n\u001b[1;32m    352\u001b[0m         \u001b[0;31m# randomly initialise the sequence of the linear z-score model\u001b[0m\u001b[0;34m\u001b[0m\u001b[0;34m\u001b[0m\u001b[0m\n\u001b[0;32m--> 353\u001b[0;31m         \u001b[0mseq_init\u001b[0m \u001b[0;34m=\u001b[0m \u001b[0minitialise_sequence_linearzscoremodel\u001b[0m\u001b[0;34m(\u001b[0m\u001b[0mstage_zscore\u001b[0m\u001b[0;34m,\u001b[0m\u001b[0mstage_biomarker_index\u001b[0m\u001b[0;34m)\u001b[0m\u001b[0;34m\u001b[0m\u001b[0m\n\u001b[0m\u001b[1;32m    354\u001b[0m         \u001b[0mf_init\u001b[0m \u001b[0;34m=\u001b[0m \u001b[0;34m[\u001b[0m\u001b[0;36m1\u001b[0m\u001b[0;34m]\u001b[0m\u001b[0;34m\u001b[0m\u001b[0m\n\u001b[1;32m    355\u001b[0m         this_ml_sequence,this_ml_f,this_ml_likelihood,_,_,_ = perform_em_mixturelinearzscoremodels(data,\n",
      "\u001b[0;32m~/Dropbox (MIT)/6.S897/final/sustain_funcs.py\u001b[0m in \u001b[0;36minitialise_sequence_linearzscoremodel\u001b[0;34m(stage_zscore, stage_biomarker_index)\u001b[0m\n\u001b[1;32m    424\u001b[0m         \u001b[0mpossible_events\u001b[0m \u001b[0;34m=\u001b[0m \u001b[0mnp\u001b[0m\u001b[0;34m.\u001b[0m\u001b[0marray\u001b[0m\u001b[0;34m(\u001b[0m\u001b[0mevents\u001b[0m\u001b[0;34m[\u001b[0m\u001b[0mIS_min_stage_zscore\u001b[0m\u001b[0;34m]\u001b[0m\u001b[0;34m)\u001b[0m\u001b[0;34m\u001b[0m\u001b[0m\n\u001b[1;32m    425\u001b[0m         \u001b[0mthis_index\u001b[0m \u001b[0;34m=\u001b[0m \u001b[0mnp\u001b[0m\u001b[0;34m.\u001b[0m\u001b[0mceil\u001b[0m\u001b[0;34m(\u001b[0m\u001b[0mnp\u001b[0m\u001b[0;34m.\u001b[0m\u001b[0mrandom\u001b[0m\u001b[0;34m.\u001b[0m\u001b[0mrand\u001b[0m\u001b[0;34m(\u001b[0m\u001b[0;34m)\u001b[0m\u001b[0;34m*\u001b[0m\u001b[0;34m(\u001b[0m\u001b[0;34m(\u001b[0m\u001b[0mlen\u001b[0m\u001b[0;34m(\u001b[0m\u001b[0mpossible_events\u001b[0m\u001b[0;34m)\u001b[0m\u001b[0;34m)\u001b[0m\u001b[0;34m)\u001b[0m\u001b[0;34m)\u001b[0m\u001b[0;34m-\u001b[0m\u001b[0;36m1\u001b[0m\u001b[0;34m\u001b[0m\u001b[0m\n\u001b[0;32m--> 426\u001b[0;31m         \u001b[0mS\u001b[0m\u001b[0;34m[\u001b[0m\u001b[0mi\u001b[0m\u001b[0;34m]\u001b[0m \u001b[0;34m=\u001b[0m \u001b[0mpossible_events\u001b[0m\u001b[0;34m[\u001b[0m\u001b[0mint\u001b[0m\u001b[0;34m(\u001b[0m\u001b[0mthis_index\u001b[0m\u001b[0;34m)\u001b[0m\u001b[0;34m]\u001b[0m\u001b[0;34m\u001b[0m\u001b[0m\n\u001b[0m\u001b[1;32m    427\u001b[0m     \u001b[0mS\u001b[0m \u001b[0;34m=\u001b[0m \u001b[0mS\u001b[0m\u001b[0;34m.\u001b[0m\u001b[0mreshape\u001b[0m\u001b[0;34m(\u001b[0m\u001b[0;36m1\u001b[0m\u001b[0;34m,\u001b[0m\u001b[0mlen\u001b[0m\u001b[0;34m(\u001b[0m\u001b[0mS\u001b[0m\u001b[0;34m)\u001b[0m\u001b[0;34m)\u001b[0m\u001b[0;34m\u001b[0m\u001b[0m\n\u001b[1;32m    428\u001b[0m     \u001b[0;32mreturn\u001b[0m \u001b[0mS\u001b[0m\u001b[0;34m\u001b[0m\u001b[0m\n",
      "\u001b[0;31mIndexError\u001b[0m: index -1 is out of bounds for axis 0 with size 0"
     ]
    },
    {
     "data": {
      "image/png": "[encoded data removed]",
      "text/plain": [
       "<Figure size 432x288 with 1 Axes>"
      ]
     },
     "metadata": {
      "needs_background": "light"
     },
     "output_type": "display_data"
    }
   ],
   "source": [
    "# import pdb; pdb.set_trace()\n",
    "# test_out = sustain_funcs.run_sustain_algorithm(\n",
    "#     test_set_norm,\n",
    "#     test_min_zscore,\n",
    "#     test_max_zscore,\n",
    "#     test_std_zscore,\n",
    "#     test_stage_zscore,\n",
    "#     test_bm_index,\n",
    "#     25,\n",
    "#     10,\n",
    "#     1000000,\n",
    "#     'Approx',\n",
    "#     'sustain',\n",
    "#     'Test Critical Biomarker Set'\n",
    "# )"
   ]
  },
  {
   "cell_type": "code",
   "execution_count": 21,
   "metadata": {},
   "outputs": [
    {
     "name": "stdout",
     "output_type": "stream",
     "text": [
      "Index(['REC_ID', 'F_STATUS', 'PATNO', 'EVENT_ID', 'PAG_NAME', 'INFODT',\n",
      "       'MRICMPLT', 'MRIDT', 'MRIWDTI', 'MRIWRSS', 'MRIXFRYN', 'MRIRSLT',\n",
      "       'PDMEDYN', 'ONLDOPA', 'ONDOPAG', 'ONOTHER', 'PDMEDDT', 'COMM',\n",
      "       'ORIG_ENTRY', 'LAST_UPDATE', 'QUERY', 'SITE_APRV'],\n",
      "      dtype='object')\n"
     ]
    }
   ],
   "source": [
    "print(mri_df.columns)"
   ]
  },
  {
   "cell_type": "code",
   "execution_count": 22,
   "metadata": {},
   "outputs": [
    {
     "name": "stdout",
     "output_type": "stream",
     "text": [
      "      REC_ID F_STATUS  PATNO EVENT_ID PAG_NAME   INFODT  MRICMPLT    MRIDT  \\\n",
      "0  234501601        V   3400       BL      MRI  07/2010       1.0  07/2010   \n",
      "\n",
      "   MRIWDTI  MRIWRSS  ...  PDMEDYN  ONLDOPA  ONDOPAG  ONOTHER  PDMEDDT  \\\n",
      "0      0.0      NaN  ...      NaN      NaN      NaN      NaN      NaN   \n",
      "\n",
      "                                                COMM ORIG_ENTRY  \\\n",
      "0  Partially empty sella and question of flatteni...    07/2010   \n",
      "\n",
      "             LAST_UPDATE QUERY SITE_APRV  \n",
      "0  2010-07-22 11:19:05.0   NaN   07/2010  \n",
      "\n",
      "[1 rows x 22 columns]\n"
     ]
    }
   ],
   "source": [
    "print(mri_df.head(1))"
   ]
  },
  {
   "cell_type": "code",
   "execution_count": null,
   "metadata": {},
   "outputs": [],
   "source": []
  }
 ],
 "metadata": {
  "kernelspec": {
   "display_name": "Python 3",
   "language": "python",
   "name": "python3"
  },
  "language_info": {
   "codemirror_mode": {
    "name": "ipython",
    "version": 3
   },
   "file_extension": ".py",
   "mimetype": "text/x-python",
   "name": "python",
   "nbconvert_exporter": "python",
   "pygments_lexer": "ipython3",
   "version": "3.7.0"
  }
 },
 "nbformat": 4,
 "nbformat_minor": 2
}
