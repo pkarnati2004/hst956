{
 "cells": [
  {
   "cell_type": "code",
   "execution_count": 1,
   "metadata": {},
   "outputs": [],
   "source": [
    "import numpy as np\n",
    "import pandas as pd\n",
    "from matplotlib import pyplot as plt\n",
    "import os"
   ]
  },
  {
   "cell_type": "code",
   "execution_count": 2,
   "metadata": {},
   "outputs": [],
   "source": [
    "mri_df = pd.read_csv('mri_progression.csv')\n",
    "events_df = pd.read_csv('events_biomarkers.csv')"
   ]
  },
  {
   "cell_type": "code",
   "execution_count": 3,
   "metadata": {},
   "outputs": [],
   "source": [
    "def event_index(image_id):\n",
    "    img_row = mri_df[mri_df['Image Data ID'] == image_id]\n",
    "    visit = int(img_row['Visit'])\n",
    "    \n",
    "    years_rows = events_df[events_df['PATNO'] == img_row['Subject'].iloc[0]]\n",
    "    y1 = years_rows[years_rows['YEAR'] == 1]\n",
    "    y2 = years_rows[years_rows['YEAR'] == 2]\n",
    "    y3 = years_rows[years_rows['YEAR'] == 3]\n",
    "    \n",
    "    \n",
    "    if visit < 12 and y1.shape[0] > 0:\n",
    "        return y1.index[0]\n",
    "    elif visit < 24 and y2.shape[0] > 0:\n",
    "        return y2.index[0]\n",
    "    elif visit < 36 and y3.shape[0] > 0:\n",
    "        return y3.index[0]\n",
    "    else:\n",
    "        return -1\n",
    "    \n",
    "mri_df['Event ID'] = [event_index(i) for i in mri_df['Image Data ID']]"
   ]
  },
  {
   "cell_type": "code",
   "execution_count": 4,
   "metadata": {},
   "outputs": [],
   "source": [
    "train_ids1 = pd.read_csv('train_ids0.txt', header=None)\n",
    "test_ids1 = pd.read_csv('test_ids0.txt', header=None)\n",
    "train_y1 = pd.read_csv('train_y0.txt', header=None)\n",
    "test_y1 = pd.read_csv('test_y0.txt', header=None)"
   ]
  },
  {
   "cell_type": "code",
   "execution_count": 5,
   "metadata": {},
   "outputs": [
    {
     "name": "stdout",
     "output_type": "stream",
     "text": [
      "                                                   0\n",
      "0  ../ppmi/cd-pd/PPMI/3817/Axial_PD-T2_TSE/2011-1...\n"
     ]
    }
   ],
   "source": [
    "print(train_ids1.head(1))"
   ]
  },
  {
   "cell_type": "code",
   "execution_count": 6,
   "metadata": {},
   "outputs": [],
   "source": [
    "def get_image_id(filename):\n",
    "    parts = filename.split('/')\n",
    "    patno = pd.to_numeric(parts[4])\n",
    "    descr = ' '.join(parts[5].split('_'))\n",
    "    \n",
    "    pat_rows = mri_df[mri_df['Subject'] == patno]\n",
    "    descr_rows = pat_rows[pat_rows['Description'] == descr]\n",
    "    \n",
    "    if descr_rows.shape[0] > 0:\n",
    "        r = descr_rows.iloc[0]\n",
    "        return [r['Image Data ID'], r['Event ID']]\n",
    "    else:\n",
    "        return [-1, -1]\n",
    "    \n",
    "train_ids1['Image Data ID'] = [get_image_id(f)[0] for f in train_ids1[0]]\n",
    "test_ids1['Image Data ID'] = [get_image_id(f)[0] for f in test_ids1[0]]\n",
    "# print(len(test_ids1.index))\n",
    "# print(len([get_image_id(f)[0] for f in train_ids1[0]]))\n",
    "\n",
    "train_ids1['Event ID'] = [get_image_id(f)[1] for f in train_ids1[0]]\n",
    "test_ids1['Event ID'] = [get_image_id(f)[1] for f in test_ids1[0]]"
   ]
  },
  {
   "cell_type": "code",
   "execution_count": 7,
   "metadata": {},
   "outputs": [],
   "source": [
    "train_ids1['Prediction'] = train_y1\n",
    "test_ids1['Prediction'] = test_y1"
   ]
  },
  {
   "cell_type": "code",
   "execution_count": 8,
   "metadata": {},
   "outputs": [
    {
     "name": "stdout",
     "output_type": "stream",
     "text": [
      "   Unnamed: 0  APOE_e4  APPRDX  EDUCYRS EVENT_ID  HISPLAT  HVLTFPRL  HVLTRDLY  \\\n",
      "1          16        0       2       14      V04        2         0        11   \n",
      "\n",
      "   HVLTREC  MAPT_cat  ...  stai_trait    tau  tau_asyn  urate  Progression  \\\n",
      "1       12         1  ...          31  298.9   0.11694    321            0   \n",
      "\n",
      "   race_white  race_black  race_asian  race_other  Prediction  \n",
      "1         1.0         0.0         0.0         0.0         1.0  \n",
      "\n",
      "[1 rows x 74 columns]\n",
      "   Unnamed: 0  APOE_e4  APPRDX  EDUCYRS EVENT_ID  HISPLAT  HVLTFPRL  HVLTRDLY  \\\n",
      "0          13        0       2       16      V06        2         0         8   \n",
      "\n",
      "   HVLTREC  MAPT_cat  ...  stai_trait    tau  tau_asyn  urate  Progression  \\\n",
      "0       12         2  ...          29  125.6   0.11285    464            0   \n",
      "\n",
      "   race_white  race_black  race_asian  race_other  Prediction  \n",
      "0         1.0         0.0         0.0         0.0         1.0  \n",
      "\n",
      "[1 rows x 74 columns]\n"
     ]
    },
    {
     "name": "stderr",
     "output_type": "stream",
     "text": [
      "/usr/local/lib/python3.7/site-packages/ipykernel_launcher.py:8: SettingWithCopyWarning: \n",
      "A value is trying to be set on a copy of a slice from a DataFrame.\n",
      "Try using .loc[row_indexer,col_indexer] = value instead\n",
      "\n",
      "See the caveats in the documentation: http://pandas.pydata.org/pandas-docs/stable/indexing.html#indexing-view-versus-copy\n",
      "  \n",
      "/usr/local/lib/python3.7/site-packages/ipykernel_launcher.py:13: SettingWithCopyWarning: \n",
      "A value is trying to be set on a copy of a slice from a DataFrame.\n",
      "Try using .loc[row_indexer,col_indexer] = value instead\n",
      "\n",
      "See the caveats in the documentation: http://pandas.pydata.org/pandas-docs/stable/indexing.html#indexing-view-versus-copy\n",
      "  del sys.path[0]\n"
     ]
    }
   ],
   "source": [
    "def get_image_prediction(event_id, dataset):\n",
    "    d_rows = dataset[dataset['Event ID'] == event_id]\n",
    "    pred = d_rows['Prediction'].sum() / d_rows.shape[0]\n",
    "    return pred\n",
    "\n",
    "train_events = train_ids1['Event ID'].value_counts().index\n",
    "events_train = events_df[events_df.index.isin(train_events)]\n",
    "events_train['Prediction'] = [get_image_prediction(eid, train_ids1) for eid in events_train.index]\n",
    "print(events_train.head(1))\n",
    "\n",
    "test_events = test_ids1['Event ID'].value_counts().index\n",
    "events_test = events_df[events_df.index.isin(test_events)]\n",
    "events_test['Prediction'] = [get_image_prediction(eid, test_ids1) for eid in events_test.index]\n",
    "print(events_test.head(1))"
   ]
  },
  {
   "cell_type": "code",
   "execution_count": 9,
   "metadata": {},
   "outputs": [],
   "source": [
    "events_train.to_csv('events_train0.csv')\n",
    "events_test.to_csv('events_test0.csv')"
   ]
  },
  {
   "cell_type": "code",
   "execution_count": null,
   "metadata": {},
   "outputs": [],
   "source": [
    "a0 = pd.read_csv('train_ids0.txt', header=None)\n",
    "b0 = pd.read_csv('train_ids0.txt', header=None)\n",
    "\n",
    "a1 = "
   ]
  }
 ],
 "metadata": {
  "kernelspec": {
   "display_name": "Python 3",
   "language": "python",
   "name": "python3"
  },
  "language_info": {
   "codemirror_mode": {
    "name": "ipython",
    "version": 3
   },
   "file_extension": ".py",
   "mimetype": "text/x-python",
   "name": "python",
   "nbconvert_exporter": "python",
   "pygments_lexer": "ipython3",
   "version": "3.7.0"
  }
 },
 "nbformat": 4,
 "nbformat_minor": 2
}
