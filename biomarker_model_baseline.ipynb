{
 "cells": [
  {
   "cell_type": "code",
   "execution_count": 1,
   "metadata": {},
   "outputs": [],
   "source": [
    "import numpy as np\n",
    "import pandas as pd\n",
    "from matplotlib import pyplot as plt\n",
    "from scipy import stats\n",
    "import os"
   ]
  },
  {
   "cell_type": "code",
   "execution_count": 2,
   "metadata": {},
   "outputs": [],
   "source": [
    "events_prog = pd.read_csv('events_biomarkers.csv')"
   ]
  },
  {
   "cell_type": "code",
   "execution_count": 3,
   "metadata": {},
   "outputs": [
    {
     "name": "stdout",
     "output_type": "stream",
     "text": [
      "1    378\n",
      "0    265\n",
      "Name: PARK, dtype: int64\n"
     ]
    }
   ],
   "source": [
    "events_prog['PARK'] = (events_prog['APPRDX'] != 2).astype(int)\n",
    "print(events_prog['PARK'].value_counts())"
   ]
  },
  {
   "cell_type": "code",
   "execution_count": 4,
   "metadata": {},
   "outputs": [],
   "source": [
    "x_cols = events_prog.columns.drop(['YEAR', 'EVENT_ID', 'PATNO', 'Progression', 'hy', 'APPRDX', 'PARK', 'PD_MED_USE'])\n",
    "events_x = events_prog[x_cols]\n",
    "events_y = events_prog['PARK']"
   ]
  },
  {
   "cell_type": "code",
   "execution_count": 5,
   "metadata": {},
   "outputs": [],
   "source": [
    "## Create train, test, valid sets\n",
    "from sklearn.model_selection import train_test_split\n",
    "\n",
    "X_train, X_test, y_train, y_test = train_test_split(events_x, events_y, test_size=0.2, random_state=42)\n",
    "X_train, X_val, y_train, y_val = train_test_split(X_train, y_train, test_size=0.2, random_state=1)"
   ]
  },
  {
   "cell_type": "code",
   "execution_count": 6,
   "metadata": {},
   "outputs": [
    {
     "name": "stdout",
     "output_type": "stream",
     "text": [
      "C=0.1 | p=l1 :: train AUC=0.9986905281536447 ; valid AUC=0.9987714987714988\n",
      "Best model: C = 0.1, penalty: l1\n",
      "test AUC:  0.9997530864197531\n"
     ]
    },
    {
     "name": "stderr",
     "output_type": "stream",
     "text": [
      "/usr/local/lib/python3.7/site-packages/sklearn/linear_model/logistic.py:433: FutureWarning: Default solver will be changed to 'lbfgs' in 0.22. Specify a solver to silence this warning.\n",
      "  FutureWarning)\n"
     ]
    }
   ],
   "source": [
    "from sklearn.linear_model import LogisticRegression \n",
    "from sklearn.metrics import roc_auc_score\n",
    "\n",
    "def select_best_model(train_X, train_y, valid_X, valid_y, C_options, penalty_options):\n",
    "    best_model, best_C, best_penalty, best_score = None, None, None, 0 \n",
    "    for C in C_options:\n",
    "        for penalty in penalty_options:\n",
    "            model = LogisticRegression(C=C, penalty=penalty).fit(train_X, train_y)\n",
    "            train_pred = [p[1] for p in model.predict_proba(train_X)]\n",
    "            train_auc = roc_auc_score(train_y, train_pred)\n",
    "            valid_pred = [p[1] for p in model.predict_proba(valid_X)]\n",
    "            valid_auc = roc_auc_score(valid_y, valid_pred)\n",
    "            print(\"C=\" + str(C) + \" | p=\" + penalty + \" :: train AUC=\" + str(train_auc) + \" ; valid AUC=\" + str(valid_auc))\n",
    "            if valid_auc > best_score:\n",
    "                best_model, best_C, best_penalty, best_score = model, C, penalty, valid_auc\n",
    "    print(\"Best model: C = \" + str(best_C) + \", penalty: \" + str(best_penalty))\n",
    "    return best_model\n",
    "\n",
    "model = select_best_model(X_train, y_train, X_val, y_val, [0.1], ['l1'])\n",
    "test_pred = [p[1] for p in model.predict_proba(X_test)]\n",
    "print(\"test AUC: \", roc_auc_score(y_test, test_pred))"
   ]
  },
  {
   "cell_type": "code",
   "execution_count": 7,
   "metadata": {},
   "outputs": [
    {
     "data": {
      "image/png": "[encoded data removed]",
      "text/plain": [
       "<Figure size 432x288 with 1 Axes>"
      ]
     },
     "metadata": {
      "needs_background": "light"
     },
     "output_type": "display_data"
    }
   ],
   "source": [
    "from sklearn.metrics import roc_curve, auc\n",
    "fpr, tpr, _ = roc_curve(y_test, test_pred)\n",
    "roc_auc = auc(fpr, tpr)\n",
    "\n",
    "plt.figure()\n",
    "lw = 2\n",
    "plt.plot(fpr, tpr, color='darkorange',\n",
    "         lw=lw, label='ROC curve (area = %0.2f)' % roc_auc)\n",
    "plt.plot([0, 1], [0, 1], color='navy', lw=lw, linestyle='--')\n",
    "plt.xlim([0.0, 1.0])\n",
    "plt.ylim([0.0, 1.05])\n",
    "plt.xlabel('False Positive Rate')\n",
    "plt.ylabel('True Positive Rate')\n",
    "plt.title('Receiver operating characteristic for Healthy vs. PD Patients')\n",
    "plt.legend(loc=\"lower right\")\n",
    "plt.show()"
   ]
  },
  {
   "cell_type": "code",
   "execution_count": 8,
   "metadata": {},
   "outputs": [
    {
     "name": "stdout",
     "output_type": "stream",
     "text": [
      "MOST POSIVITE ++\n",
      "updrs3_score: 0.5690802076036154\n",
      "updrs_totscore: 0.1693675508773562\n",
      "updrs2_score: 0.03932033940758185\n",
      "SDMTOTAL: 0.032937886862998506\n",
      "sft: 0.020437371913373286\n",
      "abeta: 0.001370553864717256\n",
      "Unnamed: 0: 0.0010513022707991657\n",
      "APOE_e4: 0.0\n",
      "EDUCYRS: 0.0\n",
      "HISPLAT: 0.0\n",
      "\n",
      "MOST NEGATIVE --\n",
      "ess: -0.08357519808908867\n",
      "stai_trait: -0.06687111295094739\n",
      "age: -0.04209519294789277\n",
      "updrs1_score: -0.03817699764542011\n",
      "tau: -0.014273565817197749\n",
      "urate: -0.006541957877177753\n",
      "asyn: -0.0009266901129530594\n",
      "race_other: 0.0\n",
      "race_asian: 0.0\n",
      "race_black: 0.0\n",
      "\n",
      "updrs3_score: 0.5690802076036154\n",
      "updrs_totscore: 0.1693675508773562\n",
      "updrs2_score: 0.03932033940758185\n",
      "SDMTOTAL: 0.032937886862998506\n",
      "sft: 0.020437371913373286\n",
      "abeta: 0.001370553864717256\n",
      "Unnamed: 0: 0.0010513022707991657\n",
      "APOE_e4: 0.0\n",
      "EDUCYRS: 0.0\n",
      "HISPLAT: 0.0\n",
      "HVLTFPRL: 0.0\n",
      "HVLTRDLY: 0.0\n",
      "HVLTREC: 0.0\n",
      "MAPT_cat: 0.0\n",
      "NP1ANXS: 0.0\n",
      "NP1APAT: 0.0\n",
      "NP1COG: 0.0\n",
      "NP1DDS: 0.0\n",
      "NP1DPRS: 0.0\n",
      "NP1FATG: 0.0\n",
      "NP1HALL: 0.0\n",
      "SNCA_rs356181_cat: 0.0\n",
      "SNCA_rs3910105_cat: 0.0\n",
      "VLTANIM: 0.0\n",
      "VLTFRUIT: 0.0\n",
      "VLTVEG: 0.0\n",
      "ab_asyn: 0.0\n",
      "age_cat: 0.0\n",
      "bjlot: 0.0\n",
      "educ: 0.0\n",
      "ess_cat: 0.0\n",
      "fampd_new: 0.0\n",
      "fampd_old: 0.0\n",
      "gds: 0.0\n",
      "gds_cat: 0.0\n",
      "gen: 0.0\n",
      "hemohi: 0.0\n",
      "hvlt_discrimination: 0.0\n",
      "hvlt_immediaterecall: 0.0\n",
      "hvlt_retention: 0.0\n",
      "lns: 0.0\n",
      "moca: 0.0\n",
      "quip: 0.0\n",
      "quip_any: 0.0\n",
      "quip_buy: 0.0\n",
      "quip_eat: 0.0\n",
      "quip_gamble: 0.0\n",
      "quip_hobby: 0.0\n",
      "quip_pund: 0.0\n",
      "quip_sex: 0.0\n",
      "quip_walk: 0.0\n",
      "race: 0.0\n",
      "rem: 0.0\n",
      "rem_cat: 0.0\n",
      "rem_q6: 0.0\n",
      "rigidity: 0.0\n",
      "scopa: 0.0\n",
      "scopa_cv: 0.0\n",
      "scopa_gi: 0.0\n",
      "scopa_pm: 0.0\n",
      "scopa_sex: 0.0\n",
      "scopa_therm: 0.0\n",
      "scopa_ur: 0.0\n",
      "stai: 0.0\n",
      "stai_state: 0.0\n",
      "tau_asyn: 0.0\n"
     ]
    }
   ],
   "source": [
    "def sort_features(model, features):\n",
    "    coef = model.coef_\n",
    "    feature_coef = [(features[i], coef[0,i]) for i in range(len(features))]\n",
    "    sorted_feature_coef = sorted(feature_coef, key=lambda x: -x[1]) \n",
    "    return sorted_feature_coef\n",
    "\n",
    "def display_most_predictive_features(sorted_features, n, positive=True): \n",
    "    if positive:\n",
    "        for i in range(n):\n",
    "            print(sorted_features[i][0] + \": \" + str(sorted_features[i][1]))\n",
    "    else:\n",
    "        for i in range(len(sorted_features) - 1, len(sorted_features) - 1 - n, -1):\n",
    "            print(sorted_features[i][0] + \": \" + str(sorted_features[i][1]))\n",
    "\n",
    "feat = sort_features(model, list(events_x.columns))\n",
    "print(\"MOST POSIVITE ++\")\n",
    "display_most_predictive_features(feat, 10)\n",
    "print()\n",
    "print(\"MOST NEGATIVE --\")\n",
    "display_most_predictive_features(feat, 10, False)\n",
    "print()\n",
    "display_most_predictive_features(feat, 66)"
   ]
  },
  {
   "cell_type": "code",
   "execution_count": 9,
   "metadata": {},
   "outputs": [
    {
     "data": {
      "text/plain": [
       "0    260\n",
       "2    235\n",
       "1    138\n",
       "3     10\n",
       "Name: hy, dtype: int64"
      ]
     },
     "execution_count": 9,
     "metadata": {},
     "output_type": "execute_result"
    }
   ],
   "source": [
    "events_prog['hy'].value_counts()"
   ]
  },
  {
   "cell_type": "code",
   "execution_count": 10,
   "metadata": {},
   "outputs": [
    {
     "name": "stdout",
     "output_type": "stream",
     "text": [
      "[0.6063731088715499, 0.6265960039874398, 0.9252865670661984, 0.913683959200198, 0.35875559646702326, 0.5226719765825744, 0.9418746767583601, 0.9237982774837628, 0.2998354083936016, 0.9053438455980507, 0.3483962038624936, 0.9681206544323765, 0.8043670346543249, 0.7202259805903959, 0.08974192421746394, 0.5397794676028865, 0.9605549416175487, 0.665248249310618, 0.6618181483817355, 0.713550599756139, 0.7107858114508826, 0.9451991182824832, 0.47485090357846627, 0.9292524649007083, 0.980084681115895, 0.6380349105492155, 0.9366671572158319, 0.9730406676770452, 0.7767075284384677, 0.9254306522366941, 0.9337908936242723, 0.7455750763220006, 0.9133036117033325, 0.9922066072190897, 0.5395118676092058, 0.8217718072821704, 0.9088181414628562, 0.7361608818258214, 0.01112950358248529, 0.3046256563478575, 0.45538654149950497, 0.7230696945912223, 0.006330154883909395, 0.8872669114048591, 0.9780179106273508, 0.8591450039986102, 0.5627838555144038, 0.41698619374611323, 0.5231916822707091, 0.872415044911175, 0.8294075300208165, 0.7785244885180821, 0.7357387132852161, 0.20371679002511922, 0.6784595784839286, 0.9442606274142198, 0.8680569093333507, 0.8149822591418959, 0.7087795361994231, 0.7293498277636724, 0.9765570336169057, 0.8073632088793476, 0.9528746225799072, 0.8377308980037049, 0.42444785187154027, 0.9623326744394339, 0.5372621527306624, 0.07633118935285062, 0.8683636157305755, 0.9277759750820429, 0.7458030248311089, 0.8884597480774641, 0.7493943460808139, 0.5093493077991207, 0.9591446577521757, 0.5295500240628931, 0.4020130266202484, 0.392695361074367, 0.8066669258002623, 0.7439324539833754, 0.6784645826093314, 0.8060365057656537, 0.6633841164683909, 0.9405838757871049, 0.9857066699898378, 0.16240247624488005, 0.04199928720543515, 0.8851733235332132, 0.6757533214194821, 0.9075413875442464, 0.2158324746709819, 0.8560900448991404, 0.7135916699351634, 0.9276650769265756, 0.10899162186425122, 0.7347549363525179, 0.9251881490623274, 0.9174404614619447, 0.9591531178606173, 0.9241002660505555, 0.5056735293594167, 0.8170243588926408, 0.643018320790439, 0.9339866830445458, 0.913805987010867, 0.7625451925161727, 0.5570722578529428, 0.9540927565073702, 0.6473991881639622, 0.738216895310723, 0.8793497532782104, 0.84440580841379, 0.8224834936559855, 0.9387247717857194, 0.805372679503539, 0.9302791806235287, 0.3042956562125514, 0.7860945887601394, 0.7123389218761882, 0.9138618385294776, 0.831651978175758, 0.04595768757243576, 0.8841065261287926, 0.5952762039236328, 0.7961536925598959, 0.7821260914815369, 0.7416556746927482, 0.9135791003889255, 0.7283084979470973]\n"
     ]
    },
    {
     "name": "stderr",
     "output_type": "stream",
     "text": [
      "/usr/local/lib/python3.7/site-packages/sklearn/linear_model/logistic.py:433: FutureWarning: Default solver will be changed to 'lbfgs' in 0.22. Specify a solver to silence this warning.\n",
      "  FutureWarning)\n",
      "/usr/local/lib/python3.7/site-packages/sklearn/linear_model/logistic.py:460: FutureWarning: Default multi_class will be changed to 'auto' in 0.22. Specify the multi_class option to silence this warning.\n",
      "  \"this warning.\", FutureWarning)\n"
     ]
    },
    {
     "ename": "ValueError",
     "evalue": "Only one class present in y_true. ROC AUC score is not defined in that case.",
     "output_type": "error",
     "traceback": [
      "\u001b[0;31m---------------------------------------------------------------------------\u001b[0m",
      "\u001b[0;31mValueError\u001b[0m                                Traceback (most recent call last)",
      "\u001b[0;32m<ipython-input-10-7af0ba7d9b74>\u001b[0m in \u001b[0;36m<module>\u001b[0;34m\u001b[0m\n\u001b[1;32m     12\u001b[0m \u001b[0mprint\u001b[0m\u001b[0;34m(\u001b[0m\u001b[0mtest_pred\u001b[0m\u001b[0;34m)\u001b[0m\u001b[0;34m\u001b[0m\u001b[0m\n\u001b[1;32m     13\u001b[0m \u001b[0;34m\u001b[0m\u001b[0m\n\u001b[0;32m---> 14\u001b[0;31m \u001b[0mprint\u001b[0m\u001b[0;34m(\u001b[0m\u001b[0;34m\"test AUC: \"\u001b[0m\u001b[0;34m,\u001b[0m \u001b[0mroc_auc_score\u001b[0m\u001b[0;34m(\u001b[0m\u001b[0;34m[\u001b[0m\u001b[0;36m1\u001b[0m \u001b[0;32mfor\u001b[0m \u001b[0mi\u001b[0m \u001b[0;32min\u001b[0m \u001b[0mrange\u001b[0m\u001b[0;34m(\u001b[0m\u001b[0mlen\u001b[0m\u001b[0;34m(\u001b[0m\u001b[0my_test\u001b[0m\u001b[0;34m)\u001b[0m\u001b[0;34m)\u001b[0m\u001b[0;34m]\u001b[0m\u001b[0;34m,\u001b[0m \u001b[0mtest_pred\u001b[0m\u001b[0;34m)\u001b[0m\u001b[0;34m)\u001b[0m\u001b[0;34m\u001b[0m\u001b[0m\n\u001b[0m",
      "\u001b[0;32m/usr/local/lib/python3.7/site-packages/sklearn/metrics/ranking.py\u001b[0m in \u001b[0;36mroc_auc_score\u001b[0;34m(y_true, y_score, average, sample_weight, max_fpr)\u001b[0m\n\u001b[1;32m    354\u001b[0m     return _average_binary_score(\n\u001b[1;32m    355\u001b[0m         \u001b[0m_binary_roc_auc_score\u001b[0m\u001b[0;34m,\u001b[0m \u001b[0my_true\u001b[0m\u001b[0;34m,\u001b[0m \u001b[0my_score\u001b[0m\u001b[0;34m,\u001b[0m \u001b[0maverage\u001b[0m\u001b[0;34m,\u001b[0m\u001b[0;34m\u001b[0m\u001b[0m\n\u001b[0;32m--> 356\u001b[0;31m         sample_weight=sample_weight)\n\u001b[0m\u001b[1;32m    357\u001b[0m \u001b[0;34m\u001b[0m\u001b[0m\n\u001b[1;32m    358\u001b[0m \u001b[0;34m\u001b[0m\u001b[0m\n",
      "\u001b[0;32m/usr/local/lib/python3.7/site-packages/sklearn/metrics/base.py\u001b[0m in \u001b[0;36m_average_binary_score\u001b[0;34m(binary_metric, y_true, y_score, average, sample_weight)\u001b[0m\n\u001b[1;32m     75\u001b[0m \u001b[0;34m\u001b[0m\u001b[0m\n\u001b[1;32m     76\u001b[0m     \u001b[0;32mif\u001b[0m \u001b[0my_type\u001b[0m \u001b[0;34m==\u001b[0m \u001b[0;34m\"binary\"\u001b[0m\u001b[0;34m:\u001b[0m\u001b[0;34m\u001b[0m\u001b[0m\n\u001b[0;32m---> 77\u001b[0;31m         \u001b[0;32mreturn\u001b[0m \u001b[0mbinary_metric\u001b[0m\u001b[0;34m(\u001b[0m\u001b[0my_true\u001b[0m\u001b[0;34m,\u001b[0m \u001b[0my_score\u001b[0m\u001b[0;34m,\u001b[0m \u001b[0msample_weight\u001b[0m\u001b[0;34m=\u001b[0m\u001b[0msample_weight\u001b[0m\u001b[0;34m)\u001b[0m\u001b[0;34m\u001b[0m\u001b[0m\n\u001b[0m\u001b[1;32m     78\u001b[0m \u001b[0;34m\u001b[0m\u001b[0m\n\u001b[1;32m     79\u001b[0m     \u001b[0mcheck_consistent_length\u001b[0m\u001b[0;34m(\u001b[0m\u001b[0my_true\u001b[0m\u001b[0;34m,\u001b[0m \u001b[0my_score\u001b[0m\u001b[0;34m,\u001b[0m \u001b[0msample_weight\u001b[0m\u001b[0;34m)\u001b[0m\u001b[0;34m\u001b[0m\u001b[0m\n",
      "\u001b[0;32m/usr/local/lib/python3.7/site-packages/sklearn/metrics/ranking.py\u001b[0m in \u001b[0;36m_binary_roc_auc_score\u001b[0;34m(y_true, y_score, sample_weight)\u001b[0m\n\u001b[1;32m    322\u001b[0m     \u001b[0;32mdef\u001b[0m \u001b[0m_binary_roc_auc_score\u001b[0m\u001b[0;34m(\u001b[0m\u001b[0my_true\u001b[0m\u001b[0;34m,\u001b[0m \u001b[0my_score\u001b[0m\u001b[0;34m,\u001b[0m \u001b[0msample_weight\u001b[0m\u001b[0;34m=\u001b[0m\u001b[0;32mNone\u001b[0m\u001b[0;34m)\u001b[0m\u001b[0;34m:\u001b[0m\u001b[0;34m\u001b[0m\u001b[0m\n\u001b[1;32m    323\u001b[0m         \u001b[0;32mif\u001b[0m \u001b[0mlen\u001b[0m\u001b[0;34m(\u001b[0m\u001b[0mnp\u001b[0m\u001b[0;34m.\u001b[0m\u001b[0munique\u001b[0m\u001b[0;34m(\u001b[0m\u001b[0my_true\u001b[0m\u001b[0;34m)\u001b[0m\u001b[0;34m)\u001b[0m \u001b[0;34m!=\u001b[0m \u001b[0;36m2\u001b[0m\u001b[0;34m:\u001b[0m\u001b[0;34m\u001b[0m\u001b[0m\n\u001b[0;32m--> 324\u001b[0;31m             raise ValueError(\"Only one class present in y_true. ROC AUC score \"\n\u001b[0m\u001b[1;32m    325\u001b[0m                              \"is not defined in that case.\")\n\u001b[1;32m    326\u001b[0m \u001b[0;34m\u001b[0m\u001b[0m\n",
      "\u001b[0;31mValueError\u001b[0m: Only one class present in y_true. ROC AUC score is not defined in that case."
     ]
    }
   ],
   "source": [
    "# x_cols = events_prog.columns.drop(['YEAR', 'EVENT_ID', 'PATNO', 'Progression', 'hy', 'APPRDX', 'PARK'])\n",
    "# events_stage_x = events_prog[x_cols]\n",
    "# events_stage_y = events_prog['hy']\n",
    "\n",
    "# X_train, X_test, y_train, y_test = train_test_split(events_stage_x, events_stage_y, test_size=0.2, random_state=1)\n",
    "# X_train, X_val, y_train, y_val = train_test_split(X_train, y_train, test_size=0.2, random_state=1)\n",
    "\n",
    "# model = LogisticRegression(C=0.1, penalty='l1').fit(X_train, y_train)\n",
    "# pred_mat = model.predict_proba(X_test)\n",
    "\n",
    "# test_pred = [pred_mat[i][y_test.iloc[i]] for i in range(len(y_test))]\n",
    "# print(test_pred)\n",
    "    \n",
    "# print(\"test AUC: \", roc_auc_score([1 for i in range(len(y_test))], test_pred))"
   ]
  },
  {
   "cell_type": "code",
   "execution_count": 11,
   "metadata": {},
   "outputs": [],
   "source": [
    "import numpy as np\n",
    "import matplotlib.pyplot as plt\n",
    "from itertools import cycle\n",
    "\n",
    "from sklearn import svm, datasets\n",
    "from sklearn.metrics import roc_curve, auc\n",
    "from sklearn.model_selection import train_test_split\n",
    "from sklearn.preprocessing import label_binarize\n",
    "from sklearn.multiclass import OneVsRestClassifier\n",
    "from scipy import interp\n",
    "\n",
    "X = events_stage_x\n",
    "y = events_stage_y\n",
    "\n",
    "# Binarize the output\n",
    "y = label_binarize(y, classes=[0, 1, 2, 3])\n",
    "n_classes = y.shape[1]\n",
    "\n",
    "# Add noisy features to make the problem harder\n",
    "random_state = np.random.RandomState(0)\n",
    "n_samples, n_features = X.shape\n",
    "X = np.c_[X, random_state.randn(n_samples, 200 * n_features)]\n",
    "\n",
    "# shuffle and split training and test sets\n",
    "X_train, X_test, y_train, y_test = train_test_split(X, y, test_size=.5,\n",
    "                                                    random_state=0)\n",
    "\n",
    "# Learn to predict each class against the other\n",
    "classifier = OneVsRestClassifier(svm.SVC(kernel='linear', probability=True,\n",
    "                                 random_state=random_state))\n",
    "y_score = classifier.fit(X_train, y_train).decision_function(X_test)\n",
    "\n",
    "# Compute ROC curve and ROC area for each class\n",
    "fpr = dict()\n",
    "tpr = dict()\n",
    "roc_auc = dict()\n",
    "for i in range(n_classes):\n",
    "    fpr[i], tpr[i], _ = roc_curve(y_test[:, i], y_score[:, i])\n",
    "    roc_auc[i] = auc(fpr[i], tpr[i])"
   ]
  },
  {
   "cell_type": "code",
   "execution_count": 12,
   "metadata": {},
   "outputs": [
    {
     "name": "stdout",
     "output_type": "stream",
     "text": [
      "{0: 0.9916266025641025, 1: 0.6364543926019336, 2: 0.8989350141273635, 3: 0.6730158730158731}\n"
     ]
    }
   ],
   "source": [
    "print(roc_auc)"
   ]
  },
  {
   "cell_type": "code",
   "execution_count": 13,
   "metadata": {},
   "outputs": [
    {
     "data": {
      "image/png": "[encoded data removed]",
      "text/plain": [
       "<Figure size 432x288 with 1 Axes>"
      ]
     },
     "metadata": {
      "needs_background": "light"
     },
     "output_type": "display_data"
    }
   ],
   "source": [
    "plt.figure()\n",
    "colors = cycle(['aqua', 'darkorange', 'cornflowerblue', 'navy'])\n",
    "lw = 2\n",
    "for i, color in zip(range(n_classes), colors):\n",
    "    plt.plot(fpr[i], tpr[i], color=color, lw=lw,\n",
    "             label='ROC curve of stage {0} (area = {1:0.2f})'\n",
    "             ''.format(i, roc_auc[i]))\n",
    "\n",
    "\n",
    "plt.plot([0, 1], [0, 1], 'k--', lw=lw)\n",
    "plt.xlim([0.0, 1.0])\n",
    "plt.ylim([0.0, 1.05])\n",
    "plt.xlabel('False Positive Rate')\n",
    "plt.ylabel('True Positive Rate')\n",
    "plt.title('Receiver operating characteristic for multi-class stage classification')\n",
    "plt.legend(loc=\"lower right\")\n",
    "plt.show()"
   ]
  },
  {
   "cell_type": "code",
   "execution_count": null,
   "metadata": {},
   "outputs": [],
   "source": [
    "print(classifier._coef)"
   ]
  },
  {
   "cell_type": "code",
   "execution_count": null,
   "metadata": {},
   "outputs": [],
   "source": []
  }
 ],
 "metadata": {
  "kernelspec": {
   "display_name": "Python 3",
   "language": "python",
   "name": "python3"
  },
  "language_info": {
   "codemirror_mode": {
    "name": "ipython",
    "version": 3
   },
   "file_extension": ".py",
   "mimetype": "text/x-python",
   "name": "python",
   "nbconvert_exporter": "python",
   "pygments_lexer": "ipython3",
   "version": "3.7.0"
  }
 },
 "nbformat": 4,
 "nbformat_minor": 2
}
