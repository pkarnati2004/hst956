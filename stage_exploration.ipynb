{
 "cells": [
  {
   "cell_type": "code",
   "execution_count": 1,
   "metadata": {},
   "outputs": [],
   "source": [
    "import numpy as np\n",
    "import pandas as pd\n",
    "from matplotlib import pyplot as plt"
   ]
  },
  {
   "cell_type": "code",
   "execution_count": 2,
   "metadata": {},
   "outputs": [
    {
     "name": "stdout",
     "output_type": "stream",
     "text": [
      "(12256, 17)\n",
      "(12257, 24)\n",
      "(13912, 51)\n",
      "(4959, 16)\n"
     ]
    }
   ],
   "source": [
    "stages1 = pd.read_csv('download/MDS_UPDRS_Part_I.csv')\n",
    "stages2 = pd.read_csv('download/MDS_UPDRS_Part_II__Patient_Questionnaire.csv')\n",
    "stages3 = pd.read_csv('download/MDS_UPDRS_Part_III.csv')\n",
    "stages4 = pd.read_csv('download/MDS_UPDRS_Part_IV.csv')\n",
    "print(stages1.shape)\n",
    "print(stages2.shape)\n",
    "print(stages3.shape)\n",
    "print(stages4.shape)"
   ]
  },
  {
   "cell_type": "code",
   "execution_count": 3,
   "metadata": {},
   "outputs": [
    {
     "name": "stdout",
     "output_type": "stream",
     "text": [
      "Number of patients: 2103\n"
     ]
    },
    {
     "data": {
      "text/plain": [
       "Text(0,0.5,'Number of Patients')"
      ]
     },
     "execution_count": 3,
     "metadata": {},
     "output_type": "execute_result"
    },
    {
     "data": {
      "image/png": "[encoded data removed]",
      "text/plain": [
       "<Figure size 432x288 with 1 Axes>"
      ]
     },
     "metadata": {
      "needs_background": "light"
     },
     "output_type": "display_data"
    }
   ],
   "source": [
    "patient_patno_counts = stages3[\"PATNO\"].value_counts()\n",
    "number_patients = len(patient_patno_counts.index)\n",
    "print(\"Number of patients: \" + str(number_patients))\n",
    "#patient_ids.head(n=10)\n",
    "plot = patient_patno_counts.hist(bins=26)\n",
    "plot.set_title(\"\")\n",
    "plot.set_xlabel(\"Number of H&Y Stage Measurements per Patient\")\n",
    "plot.set_ylabel(\"Number of Patients\")"
   ]
  },
  {
   "cell_type": "code",
   "execution_count": 4,
   "metadata": {},
   "outputs": [
    {
     "name": "stdout",
     "output_type": "stream",
     "text": [
      "2.0    6649\n",
      "0.0    4039\n",
      "1.0    2502\n",
      "3.0     609\n",
      "4.0      77\n",
      "5.0      23\n",
      "Name: NHY, dtype: int64\n"
     ]
    }
   ],
   "source": [
    "stage_ids = stages3[\"NHY\"].value_counts()\n",
    "print(stage_ids)"
   ]
  },
  {
   "cell_type": "code",
   "execution_count": 13,
   "metadata": {},
   "outputs": [
    {
     "name": "stdout",
     "output_type": "stream",
     "text": [
      "Number of patients with both data: (1416,)\n"
     ]
    }
   ],
   "source": [
    "mri_df = pd.read_csv('download/Magnetic_Resonance_Imaging.csv')\n",
    "mri_patno_counts = mri_df[\"PATNO\"].value_counts()\n",
    "mri_ids = mri_patno_counts.index\n",
    "stage_ids = patient_patno_counts.index\n",
    "both_ids = pd.Series(list(set(mri_ids) & set(stage_ids)))\n",
    "print(\"Number of patients with both data: \" + str(both_ids.shape))"
   ]
  },
  {
   "cell_type": "code",
   "execution_count": 14,
   "metadata": {},
   "outputs": [
    {
     "name": "stdout",
     "output_type": "stream",
     "text": [
      "Number of patients: 1416\n"
     ]
    },
    {
     "data": {
      "text/plain": [
       "Text(0,0.5,'Number of Patients')"
      ]
     },
     "execution_count": 14,
     "metadata": {},
     "output_type": "execute_result"
    },
    {
     "data": {
      "image/png": "[encoded data removed]",
      "text/plain": [
       "<Figure size 432x288 with 1 Axes>"
      ]
     },
     "metadata": {
      "needs_background": "light"
     },
     "output_type": "display_data"
    }
   ],
   "source": [
    "both_df = stages3[stages3[\"PATNO\"].isin(both_ids)]\n",
    "both_patno_counts = both_df[\"PATNO\"].value_counts()\n",
    "number_patients = len(both_patno_counts.index)\n",
    "print(\"Number of patients: \" + str(number_patients))\n",
    "#patient_ids.head(n=10)\n",
    "plot = both_patno_counts.hist(bins=26)\n",
    "plot.set_title(\"Patients with Stage and Image Data\")\n",
    "plot.set_xlabel(\"Number of Stage Measurements per Patient\")\n",
    "plot.set_ylabel(\"Number of Patients\")"
   ]
  },
  {
   "cell_type": "code",
   "execution_count": null,
   "metadata": {},
   "outputs": [],
   "source": []
  }
 ],
 "metadata": {
  "kernelspec": {
   "display_name": "Python 3",
   "language": "python",
   "name": "python3"
  },
  "language_info": {
   "codemirror_mode": {
    "name": "ipython",
    "version": 3
   },
   "file_extension": ".py",
   "mimetype": "text/x-python",
   "name": "python",
   "nbconvert_exporter": "python",
   "pygments_lexer": "ipython3",
   "version": "3.7.0"
  }
 },
 "nbformat": 4,
 "nbformat_minor": 2
}
