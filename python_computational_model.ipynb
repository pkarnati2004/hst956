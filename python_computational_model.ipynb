{
 "cells": [
  {
   "cell_type": "markdown",
   "metadata": {},
   "source": [
    "# 6.009 Information\n",
    "\n",
    "### Website: http://web.mit.edu/6.009\n",
    "* Sign up for Piazza forum, ask questions there (no emails please!).  Use private postings if you include code, but other please post publically so Q&A are shared.\n",
    "\n",
    "### Instructor presentations\n",
    "* Lectures: Tue 9:30-11, 54-100\n",
    "* Tutorials: Wed (9-11, 1-3), first 30-60 mins of session\n",
    "\n",
    "### Office hours (code help, checkoff meetings)\n",
    "* Wed (9-11, 1-3), last 60-90 mins of session\n",
    "* Fri (9-11, 10-12, 1-3, 2-4), 120 min sessions\n",
    "* Sun-Thu (7-10)\n",
    "\n",
    "### Labs: the heart of 6.009\n",
    "* Use python 3.6 (`python3` and `pip3`)\n",
    "* Issued Tuesday @ 9am (Lab 1 is already issued!)\n",
    "* Submission due the following Monday @ 10p\n",
    "* Checkoff meetings during office hours; due 4 days after submission (nominally Friday @ 4)\n",
    "* You accumulate late days for submission/checkoffs past deadline.  Only days when you can get checkoffs count as checkoff late days\n",
    "* First 7 late days are automatically excused, otherwise there's a 1 point/day penalty\n",
    "\n",
    "### Grading\n",
    "* 9 labs totaling 44 points (labs 8 and 9 are \"double\" two-week labs worth 8 points)\n",
    "* 3 quizzes, 20 points each.  Resubmit incomplete problems for partial credit.  Quizzes held during Friday sessions, make-ups the following Monday.\n",
    "* See website for points-to-grade table\n"
   ]
  },
  {
   "cell_type": "markdown",
   "metadata": {},
   "source": [
    "# Python Computational Model"
   ]
  },
  {
   "cell_type": "markdown",
   "metadata": {},
   "source": [
    "Our goal is to refresh ourselves on basics (and some subtleties) associated with Python's data and computational model. Along the way, we'll also use or refresh ourselves on the <b>environment model</b> as a way to think about and keep track of the effect of executing python code."
   ]
  },
  {
   "cell_type": "markdown",
   "metadata": {},
   "source": [
    "## Variables and data types"
   ]
  },
  {
   "cell_type": "markdown",
   "metadata": {},
   "source": [
    "### Integers"
   ]
  },
  {
   "cell_type": "code",
   "execution_count": 1,
   "metadata": {},
   "outputs": [
    {
     "name": "stdout",
     "output_type": "stream",
     "text": [
      "a: 7 \n",
      "b: 7\n"
     ]
    }
   ],
   "source": [
    "a = 7\n",
    "b = a\n",
    "print('a:', a, '\\nb:', b)"
   ]
  },
  {
   "cell_type": "code",
   "execution_count": 2,
   "metadata": {},
   "outputs": [
    {
     "name": "stdout",
     "output_type": "stream",
     "text": [
      "a: 117 \n",
      "b: 7\n"
     ]
    }
   ],
   "source": [
    "a = a + 10\n",
    "a += 100\n",
    "print('a:', a, '\\nb:', b)"
   ]
  },
  {
   "cell_type": "markdown",
   "metadata": {},
   "source": [
    "So far so good -- integers, and variables pointing to integers, are straightforward."
   ]
  },
  {
   "cell_type": "markdown",
   "metadata": {},
   "source": [
    "### Lists"
   ]
  },
  {
   "cell_type": "code",
   "execution_count": 3,
   "metadata": {},
   "outputs": [
    {
     "name": "stdout",
     "output_type": "stream",
     "text": [
      "x: ['baz', [1, 2], 3, 4]\n"
     ]
    }
   ],
   "source": [
    "x = ['baz', [1, 2], 3, 4]\n",
    "print('x:', x)"
   ]
  },
  {
   "cell_type": "code",
   "execution_count": 4,
   "metadata": {},
   "outputs": [
    {
     "name": "stdout",
     "output_type": "stream",
     "text": [
      "y: ['baz', [1, 2], 3, 4]\n"
     ]
    }
   ],
   "source": [
    "y = x\n",
    "print('y:', y)"
   ]
  },
  {
   "cell_type": "code",
   "execution_count": 5,
   "metadata": {},
   "outputs": [
    {
     "name": "stdout",
     "output_type": "stream",
     "text": [
      "x: 77 \n",
      "y: ['baz', [1, 2], 3, 4]\n"
     ]
    }
   ],
   "source": [
    "x = 77\n",
    "print('x:', x, '\\ny:', y)"
   ]
  },
  {
   "cell_type": "markdown",
   "metadata": {},
   "source": [
    "\n",
    "Unlike integers, lists are mutable:"
   ]
  },
  {
   "cell_type": "code",
   "execution_count": 6,
   "metadata": {},
   "outputs": [
    {
     "name": "stdout",
     "output_type": "stream",
     "text": [
      "x: [88, [1, 2], 3, 4]\n"
     ]
    }
   ],
   "source": [
    "x = y\n",
    "x[0] = 88\n",
    "print('x:', x)"
   ]
  },
  {
   "cell_type": "code",
   "execution_count": 7,
   "metadata": {},
   "outputs": [
    {
     "name": "stdout",
     "output_type": "stream",
     "text": [
      "y: [88, [1, 2], 3, 4]\n"
     ]
    }
   ],
   "source": [
    "print('y:', y)"
   ]
  },
  {
   "cell_type": "markdown",
   "metadata": {},
   "source": [
    "As seen above, we have to be careful about sharing (also known as \"aliasing\") mutable data!"
   ]
  },
  {
   "cell_type": "code",
   "execution_count": 8,
   "metadata": {},
   "outputs": [
    {
     "name": "stdout",
     "output_type": "stream",
     "text": [
      "[[1, 2, 3], [1, 2, 3], [1, 2, 3]]\n"
     ]
    }
   ],
   "source": [
    "a = [1, 2, 3]\n",
    "b = [a, a, a]\n",
    "print(b)"
   ]
  },
  {
   "cell_type": "code",
   "execution_count": 9,
   "metadata": {},
   "outputs": [
    {
     "name": "stdout",
     "output_type": "stream",
     "text": [
      "[[4, 2, 3], [4, 2, 3], [4, 2, 3]]\n"
     ]
    }
   ],
   "source": [
    "b[0][0] = 4\n",
    "print(b)"
   ]
  },
  {
   "cell_type": "markdown",
   "metadata": {},
   "source": [
    "### Tuples"
   ]
  },
  {
   "cell_type": "markdown",
   "metadata": {},
   "source": [
    "Tuples are a lot like lists, except that they are immutable."
   ]
  },
  {
   "cell_type": "code",
   "execution_count": 10,
   "metadata": {},
   "outputs": [
    {
     "name": "stdout",
     "output_type": "stream",
     "text": [
      "x: ('baz', [1, 2], 3, 4) \n",
      "y: ('baz', [1, 2], 3, 4)\n"
     ]
    }
   ],
   "source": [
    "x = ('baz', [1, 2], 3, 4)\n",
    "y = x\n",
    "print('x:', x, '\\ny:', y)"
   ]
  },
  {
   "cell_type": "markdown",
   "metadata": {},
   "source": [
    "Unlike a list, we can't change the top most structure of a tuple; trying to change it results in an error:"
   ]
  },
  {
   "cell_type": "code",
   "execution_count": 11,
   "metadata": {},
   "outputs": [
    {
     "ename": "TypeError",
     "evalue": "'tuple' object does not support item assignment",
     "output_type": "error",
     "traceback": [
      "\u001b[1;31m---------------------------------------------------------------------------\u001b[0m",
      "\u001b[1;31mTypeError\u001b[0m                                 Traceback (most recent call last)",
      "\u001b[1;32m<ipython-input-11-00de764f1e8d>\u001b[0m in \u001b[0;36m<module>\u001b[1;34m()\u001b[0m\n\u001b[1;32m----> 1\u001b[1;33m \u001b[0mx\u001b[0m\u001b[1;33m[\u001b[0m\u001b[1;36m0\u001b[0m\u001b[1;33m]\u001b[0m \u001b[1;33m=\u001b[0m \u001b[1;36m88\u001b[0m\u001b[1;33m\u001b[0m\u001b[0m\n\u001b[0m",
      "\u001b[1;31mTypeError\u001b[0m: 'tuple' object does not support item assignment"
     ]
    }
   ],
   "source": [
    "x[0] = 88"
   ]
  },
  {
   "cell_type": "markdown",
   "metadata": {},
   "source": [
    "What will happen in the following (operating on x)?"
   ]
  },
  {
   "cell_type": "code",
   "execution_count": 12,
   "metadata": {},
   "outputs": [
    {
     "name": "stdout",
     "output_type": "stream",
     "text": [
      "x: ('baz', [11, 2], 3, 4) \n",
      "y: ('baz', [11, 2], 3, 4)\n"
     ]
    }
   ],
   "source": [
    "x[1][0] = 11\n",
    "print('x:', x, '\\ny:', y)"
   ]
  },
  {
   "cell_type": "markdown",
   "metadata": {},
   "source": [
    "So we still need to be careful! The tuple didn't change at the top level -- but it might have members that are themselves mutable."
   ]
  },
  {
   "cell_type": "markdown",
   "metadata": {},
   "source": [
    "### Strings"
   ]
  },
  {
   "cell_type": "markdown",
   "metadata": {},
   "source": [
    "Strings are also immutable. We can't change them once created. "
   ]
  },
  {
   "cell_type": "code",
   "execution_count": 13,
   "metadata": {},
   "outputs": [
    {
     "name": "stdout",
     "output_type": "stream",
     "text": [
      "a: hi \n",
      "b: high\n"
     ]
    }
   ],
   "source": [
    "a = 'hi'\n",
    "b = a + 'gh'\n",
    "print('a:', a, '\\nb:', b)"
   ]
  },
  {
   "cell_type": "code",
   "execution_count": 14,
   "metadata": {},
   "outputs": [
    {
     "ename": "TypeError",
     "evalue": "'str' object does not support item assignment",
     "output_type": "error",
     "traceback": [
      "\u001b[1;31m---------------------------------------------------------------------------\u001b[0m",
      "\u001b[1;31mTypeError\u001b[0m                                 Traceback (most recent call last)",
      "\u001b[1;32m<ipython-input-14-ecb470cdfa8a>\u001b[0m in \u001b[0;36m<module>\u001b[1;34m()\u001b[0m\n\u001b[1;32m----> 1\u001b[1;33m \u001b[0ma\u001b[0m\u001b[1;33m[\u001b[0m\u001b[1;36m0\u001b[0m\u001b[1;33m]\u001b[0m \u001b[1;33m=\u001b[0m \u001b[1;34m'H'\u001b[0m\u001b[1;33m\u001b[0m\u001b[0m\n\u001b[0m",
      "\u001b[1;31mTypeError\u001b[0m: 'str' object does not support item assignment"
     ]
    }
   ],
   "source": [
    "a[0] = 'H'"
   ]
  },
  {
   "cell_type": "code",
   "execution_count": 15,
   "metadata": {},
   "outputs": [
    {
     "name": "stdout",
     "output_type": "stream",
     "text": [
      "c: hello there \n",
      "d: hello\n"
     ]
    }
   ],
   "source": [
    "c = 'hello'\n",
    "d = c\n",
    "c += ' there'\n",
    "print('c:', c, '\\nd:', d)"
   ]
  },
  {
   "cell_type": "markdown",
   "metadata": {},
   "source": [
    "That's a little bit tricky. Here the '+=' operator makes a copy of c first to use as part of the new string with ' there' included at the end."
   ]
  },
  {
   "cell_type": "markdown",
   "metadata": {},
   "source": [
    "### Back to lists: append, extend, and the '+' and '+=' operators"
   ]
  },
  {
   "cell_type": "code",
   "execution_count": 16,
   "metadata": {},
   "outputs": [
    {
     "name": "stdout",
     "output_type": "stream",
     "text": [
      "x: [1, 2, 3, [4, 5]] \n",
      "y: [1, 2, 3, [4, 5]]\n"
     ]
    }
   ],
   "source": [
    "x = [1, 2, 3]\n",
    "y = x\n",
    "x.append([4, 5])\n",
    "print('x:', x, '\\ny:', y)"
   ]
  },
  {
   "cell_type": "markdown",
   "metadata": {},
   "source": [
    "So again, we have to watch out for aliasing/sharing, whenever we mutate an object."
   ]
  },
  {
   "cell_type": "code",
   "execution_count": 17,
   "metadata": {},
   "outputs": [
    {
     "name": "stdout",
     "output_type": "stream",
     "text": [
      "x: [1, 2, 3, 4, 5] \n",
      "y: [1, 2, 3, 4, 5]\n"
     ]
    }
   ],
   "source": [
    "x = [1, 2, 3]\n",
    "y = x\n",
    "x.extend([4, 5])\n",
    "print('x:', x, '\\ny:', y)"
   ]
  },
  {
   "cell_type": "markdown",
   "metadata": {},
   "source": [
    "Here's an interesting case, to check understanding of the '+' operator used on lists:"
   ]
  },
  {
   "cell_type": "code",
   "execution_count": 18,
   "metadata": {},
   "outputs": [
    {
     "name": "stdout",
     "output_type": "stream",
     "text": [
      "x: [1, 2, 3, 4, 5]\n"
     ]
    }
   ],
   "source": [
    "x = [1, 2, 3]\n",
    "y = x\n",
    "x = x + [4, 5]\n",
    "print('x:', x)"
   ]
  },
  {
   "cell_type": "markdown",
   "metadata": {},
   "source": [
    "So the '+' operator on a list looks sort of like extend. But has it changed x in place, or made a copy of x first for use in the longer list?\n",
    "\n",
    "And what happens to <tt>y</tt> in the above?"
   ]
  },
  {
   "cell_type": "code",
   "execution_count": 19,
   "metadata": {},
   "outputs": [
    {
     "name": "stdout",
     "output_type": "stream",
     "text": [
      "y: [1, 2, 3]\n"
     ]
    }
   ],
   "source": [
    "print('y:', y)"
   ]
  },
  {
   "cell_type": "markdown",
   "metadata": {},
   "source": [
    "So that clarifies things -- the \"+\" operator on a list makes a (shallow) copy of the left argument first, then uses that copy in the new larger list."
   ]
  },
  {
   "cell_type": "markdown",
   "metadata": {},
   "source": [
    "Another case, this time using the \"+=\" operator with a list. Note: in the case of integers, a = a + <val> and a += <val> gave exactly the same result. How about in the case of lists?"
   ]
  },
  {
   "cell_type": "code",
   "execution_count": 20,
   "metadata": {},
   "outputs": [
    {
     "name": "stdout",
     "output_type": "stream",
     "text": [
      "x: [1, 2, 3, 4, 5] \n",
      "y: [1, 2, 3, 4, 5]\n"
     ]
    }
   ],
   "source": [
    "x = [1, 2, 3]\n",
    "y = x\n",
    "x += [4, 5]\n",
    "print('x:', x, '\\ny:', y)"
   ]
  },
  {
   "cell_type": "markdown",
   "metadata": {},
   "source": [
    "So x += <something> is NOT the same thing as x = x + <something> if x is a list!  Here it actually DOES mutate or change x in place, if that is allowed (i.e., if x is a mutable object).\n",
    "\n",
    "Contrast this with the same thing, but for x in the case where x was a string. Since strings are immutable, python does not change x in place. Rather, the += operator is overloaded to do a top-level copy of the target, make that copy part of the new larger object, and assign that new object to the variable."
   ]
  },
  {
   "cell_type": "markdown",
   "metadata": {},
   "source": [
    "Let's check your understanding. What will happen in the following, that looks just like the code above for lists, but instead using tuples. What will x and y be after executing this?"
   ]
  },
  {
   "cell_type": "code",
   "execution_count": 21,
   "metadata": {},
   "outputs": [
    {
     "name": "stdout",
     "output_type": "stream",
     "text": [
      "x: (1, 2, 3, 4, 5) \n",
      "y: (1, 2, 3)\n"
     ]
    }
   ],
   "source": [
    "x = (1, 2, 3)\n",
    "y = x\n",
    "x += (4, 5)\n",
    "print('x:', x, '\\ny:', y)"
   ]
  },
  {
   "cell_type": "markdown",
   "metadata": {},
   "source": [
    "### Other data types for you to refresh yourself on (later): sets, dictionaries"
   ]
  },
  {
   "cell_type": "markdown",
   "metadata": {},
   "source": [
    "If we have enough time, we can come back to and refresh ourselves on sets and dictionaries. We'll find those useful in later labs, but don't need them for Lab 1."
   ]
  },
  {
   "cell_type": "markdown",
   "metadata": {},
   "source": [
    "## Functions and scoping"
   ]
  },
  {
   "cell_type": "code",
   "execution_count": 22,
   "metadata": {},
   "outputs": [
    {
     "name": "stdout",
     "output_type": "stream",
     "text": [
      "x: 100 \n",
      "foo: <function foo at 0x000001F492FBCAE8> \n",
      "z: 107\n"
     ]
    }
   ],
   "source": [
    "x = 100\n",
    "def foo(y):\n",
    "    return x + y\n",
    "z = foo(7)\n",
    "print('x:', x, '\\nfoo:', foo, '\\nz:', z)"
   ]
  },
  {
   "cell_type": "code",
   "execution_count": 23,
   "metadata": {},
   "outputs": [
    {
     "name": "stdout",
     "output_type": "stream",
     "text": [
      "x: 100 \n",
      "w: 107\n"
     ]
    }
   ],
   "source": [
    "def bar(x):\n",
    "    x = 1000\n",
    "    return foo(7)\n",
    "w = bar('hi')\n",
    "print('x:', x, '\\nw:', w)"
   ]
  },
  {
   "cell_type": "markdown",
   "metadata": {},
   "source": [
    "Importantly, foo \"remembers\" that it was created in the global environment, so looks in the global environment to find a value for 'x'. It does NOT look back in its \"call chain\"; rather, it looks back in its parent environment."
   ]
  },
  {
   "cell_type": "markdown",
   "metadata": {},
   "source": [
    "### Optional arguments and default values"
   ]
  },
  {
   "cell_type": "code",
   "execution_count": 24,
   "metadata": {},
   "outputs": [
    {
     "name": "stdout",
     "output_type": "stream",
     "text": [
      "a: [7] \n",
      "b: [1, 2, 3, 88]\n"
     ]
    }
   ],
   "source": [
    "def foo(x, y = []):\n",
    "    y = y + [x]\n",
    "    return y\n",
    "\n",
    "a = foo(7)\n",
    "b = foo(88, [1, 2, 3])\n",
    "print('a:', a, '\\nb:', b)"
   ]
  },
  {
   "cell_type": "code",
   "execution_count": 25,
   "metadata": {
    "scrolled": true
   },
   "outputs": [
    {
     "name": "stdout",
     "output_type": "stream",
     "text": [
      "a: [7] \n",
      "b: [1, 2, 3, 88] \n",
      "c: [7]\n"
     ]
    }
   ],
   "source": [
    "c = foo(7)\n",
    "print('a:', a, '\\nb:', b, '\\nc:', c)"
   ]
  },
  {
   "cell_type": "markdown",
   "metadata": {},
   "source": [
    "Let's try something that looks close to the same thing... but with an important difference!"
   ]
  },
  {
   "cell_type": "code",
   "execution_count": 26,
   "metadata": {},
   "outputs": [
    {
     "name": "stdout",
     "output_type": "stream",
     "text": [
      "a: [7] \n",
      "b: [1, 2, 3, 88]\n"
     ]
    }
   ],
   "source": [
    "def foo(x, y = []):\n",
    "    y.append(x)   # different here\n",
    "    return y\n",
    "\n",
    "a = foo(7)\n",
    "b = foo(88, [1, 2, 3])\n",
    "print('a:', a, '\\nb:', b)"
   ]
  },
  {
   "cell_type": "markdown",
   "metadata": {},
   "source": [
    "Okay, so far it looks the same as with the earlier foo."
   ]
  },
  {
   "cell_type": "code",
   "execution_count": 27,
   "metadata": {},
   "outputs": [
    {
     "name": "stdout",
     "output_type": "stream",
     "text": [
      "a: [7, 7] \n",
      "b: [1, 2, 3, 88] \n",
      "c: [7, 7]\n"
     ]
    }
   ],
   "source": [
    "c = foo(7)\n",
    "print('a:', a, '\\nb:', b, '\\nc:', c)"
   ]
  },
  {
   "cell_type": "markdown",
   "metadata": {},
   "source": [
    "So quite different... all kinds of aliasing going on. The moral here is to be VERY careful (and indeed it may be best to simply avoid) having optional/default arguments that are mutable structures like lists... it's hard to remember or debug such aliasing!"
   ]
  },
  {
   "cell_type": "markdown",
   "metadata": {},
   "source": [
    "## Closures"
   ]
  },
  {
   "cell_type": "code",
   "execution_count": 28,
   "metadata": {
    "collapsed": true
   },
   "outputs": [],
   "source": [
    "def add_n(n):\n",
    "    def inner(x):\n",
    "        return x + n\n",
    "    return inner"
   ]
  },
  {
   "cell_type": "code",
   "execution_count": 29,
   "metadata": {},
   "outputs": [
    {
     "name": "stdout",
     "output_type": "stream",
     "text": [
      "5\n",
      "8\n",
      "17\n"
     ]
    }
   ],
   "source": [
    "add1 = add_n(1)\n",
    "add2 = add_n(2)\n",
    "\n",
    "print(add2(3))\n",
    "print(add1(7)) \n",
    "print(add_n(8)(9))  "
   ]
  },
  {
   "cell_type": "markdown",
   "metadata": {},
   "source": [
    "## Brain Teasers"
   ]
  },
  {
   "cell_type": "markdown",
   "metadata": {},
   "source": [
    "What happens when this program is run?\n",
    "    0. It prints 26, then 25, then 24, then ..., then 7\n",
    "    1. It prints 27, then 26, then 25, then ..., then 7\n",
    "    2. It prints 7, then 8, then 9, then ..., then 26\n",
    "    3. It prints 7, then 8, then 9, then ..., then 27\n",
    "    4. A Python error occurs\n",
    "    5. Something else"
   ]
  },
  {
   "cell_type": "code",
   "execution_count": 30,
   "metadata": {},
   "outputs": [
    {
     "name": "stdout",
     "output_type": "stream",
     "text": [
      "26\n",
      "26\n",
      "26\n",
      "26\n",
      "26\n",
      "26\n",
      "26\n",
      "26\n",
      "26\n",
      "26\n",
      "26\n",
      "26\n",
      "26\n",
      "26\n",
      "26\n",
      "26\n",
      "26\n",
      "26\n",
      "26\n",
      "26\n"
     ]
    }
   ],
   "source": [
    "functions = []\n",
    "for i in range(20):\n",
    "    def f(x):\n",
    "        return x + i\n",
    "    functions.append(f)\n",
    "\n",
    "for f in functions:\n",
    "    print(f(7))"
   ]
  },
  {
   "cell_type": "markdown",
   "metadata": {},
   "source": [
    "## Classes"
   ]
  },
  {
   "cell_type": "code",
   "execution_count": 31,
   "metadata": {},
   "outputs": [
    {
     "name": "stdout",
     "output_type": "stream",
     "text": [
      "class var\n"
     ]
    }
   ],
   "source": [
    "x = 'global var'\n",
    "class Simple:\n",
    "    x = 'class var'\n",
    "    \n",
    "print(Simple.x)"
   ]
  },
  {
   "cell_type": "code",
   "execution_count": 32,
   "metadata": {},
   "outputs": [
    {
     "name": "stdout",
     "output_type": "stream",
     "text": [
      "class var\n"
     ]
    }
   ],
   "source": [
    "x = 'global var'\n",
    "class Simple:\n",
    "    x = 'class var'\n",
    "    \n",
    "s = Simple()\n",
    "print(s.x)"
   ]
  },
  {
   "cell_type": "code",
   "execution_count": 33,
   "metadata": {},
   "outputs": [
    {
     "name": "stdout",
     "output_type": "stream",
     "text": [
      "instance var\n",
      "class var\n"
     ]
    }
   ],
   "source": [
    "x = 'global var'\n",
    "class Simple:\n",
    "    x = 'class var'\n",
    "    \n",
    "s = Simple()\n",
    "s.x = 'instance var'\n",
    "print(s.x)\n",
    "print(Simple.x)"
   ]
  },
  {
   "cell_type": "code",
   "execution_count": 34,
   "metadata": {},
   "outputs": [
    {
     "name": "stdout",
     "output_type": "stream",
     "text": [
      "class var\n"
     ]
    }
   ],
   "source": [
    "x = 'global var'\n",
    "class Simple:\n",
    "    x = 'class var'\n",
    "    def __init__(self):\n",
    "        x = 'local var'\n",
    "    \n",
    "s = Simple()\n",
    "print(s.x)"
   ]
  },
  {
   "cell_type": "code",
   "execution_count": 35,
   "metadata": {},
   "outputs": [
    {
     "name": "stdout",
     "output_type": "stream",
     "text": [
      "instance var\n"
     ]
    }
   ],
   "source": [
    "x = 'global var'\n",
    "class Simple:\n",
    "    x = 'class var'\n",
    "    def __init__(self):\n",
    "        x = 'local var'\n",
    "        self.x = 'instance var'\n",
    "    \n",
    "s = Simple()\n",
    "print(s.x)"
   ]
  },
  {
   "cell_type": "code",
   "execution_count": 36,
   "metadata": {},
   "outputs": [
    {
     "name": "stdout",
     "output_type": "stream",
     "text": [
      "global var\n"
     ]
    }
   ],
   "source": [
    "x = 'global var'\n",
    "class Simple:\n",
    "    x = 'class var'\n",
    "    def __init__(self):\n",
    "        x = 'local var'\n",
    "        self.x = 'instance var'\n",
    "    def which_x(self):\n",
    "        return x\n",
    "    \n",
    "s = Simple()\n",
    "print(s.which_x())"
   ]
  },
  {
   "cell_type": "markdown",
   "metadata": {},
   "source": [
    "## Readings -- if you want/need more refreshers"
   ]
  },
  {
   "cell_type": "markdown",
   "metadata": {},
   "source": [
    "Check out the <b>6.s080</b> readings:\n",
    "<ul>\n",
    "  <li> Assignment and aliasing: \n",
    "What is an environment?  What is a frame?\n",
    "Discussed in https://sixohone.mit.edu/6.s080/assignment0.0/readings\n",
    "  <li> Functions: What happens when one is defined?  What happens when one is called? Simple example in sections 4-5 of  https://sixohone.mit.edu/6.s080/assignment1.0/readings\n",
    "  <li> Closures in 2.3-2.4 of https://sixohone.mit.edu/6.s080/assignment1.1/readings\n",
    "  <li> Classes: What is a class?  What is an instance? What is self?  What is \\__init\\__?\n",
    "Discussed in https://sixohone.mit.edu/6.s080/assignment2.0/readings\n",
    "  <li> Inheritance in sections 1-3 of https://sixohone.mit.edu/6.s080/assignment2.1/readings\n",
    "  </ul>"
   ]
  }
 ],
 "metadata": {
  "celltoolbar": "Raw Cell Format",
  "kernelspec": {
   "display_name": "Python 3",
   "language": "python",
   "name": "python3"
  },
  "language_info": {
   "codemirror_mode": {
    "name": "ipython",
    "version": 3
   },
   "file_extension": ".py",
   "mimetype": "text/x-python",
   "name": "python",
   "nbconvert_exporter": "python",
   "pygments_lexer": "ipython3",
   "version": "3.6.0"
  }
 },
 "nbformat": 4,
 "nbformat_minor": 2
}
