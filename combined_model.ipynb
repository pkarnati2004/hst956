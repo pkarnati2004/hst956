{
 "cells": [
  {
   "cell_type": "code",
   "execution_count": 1,
   "metadata": {},
   "outputs": [],
   "source": [
    "import numpy as np\n",
    "import pandas as pd\n",
    "from matplotlib import pyplot as plt\n",
    "import os"
   ]
  },
  {
   "cell_type": "code",
   "execution_count": 2,
   "metadata": {},
   "outputs": [],
   "source": [
    "mri_df = pd.read_csv('mri_progression.csv')\n",
    "events_df = pd.read_csv('events_biomarkers.csv')"
   ]
  },
  {
   "cell_type": "code",
   "execution_count": 3,
   "metadata": {},
   "outputs": [
    {
     "name": "stdout",
     "output_type": "stream",
     "text": [
      "   Unnamed: 0  Image Data ID  Subject    Group Sex  Age  Visit Modality  \\\n",
      "0           3         406544     3817  Control   M   75      0      MRI   \n",
      "\n",
      "                 Description       Type   Acq Date Format Downloaded  \\\n",
      "0  T2 in T1-anatomical space  Processed  1/15/2013  NiFTI        NaN   \n",
      "\n",
      "   Progression  Stage  \n",
      "0            0      0  \n"
     ]
    }
   ],
   "source": [
    "print(mri_df.head(1))"
   ]
  },
  {
   "cell_type": "code",
   "execution_count": 12,
   "metadata": {},
   "outputs": [],
   "source": [
    "def event_index(image_id):\n",
    "    img_row = mri_df[mri_df['Image Data ID'] == image_id]\n",
    "    visit = int(img_row['Visit'])\n",
    "    \n",
    "    years_rows = events_df[events_df['PATNO'] == img_row['Subject'].iloc[0]]\n",
    "    y1 = years_rows[years_rows['YEAR'] == 1]\n",
    "    y2 = years_rows[years_rows['YEAR'] == 2]\n",
    "    y3 = years_rows[years_rows['YEAR'] == 3]\n",
    "    \n",
    "    \n",
    "    if visit < 12 and y1.shape[0] > 0:\n",
    "        return y1.index[0]\n",
    "    elif visit < 24 and y2.shape[0] > 0:\n",
    "        return y2.index[0]\n",
    "    elif visit < 36 and y3.shape[0] > 0:\n",
    "        return y3.index[0]\n",
    "    else:\n",
    "        return -1\n",
    "    \n",
    "mri_df['Event ID'] = [event_index(i) for i in mri_df['Image Data ID']]"
   ]
  },
  {
   "cell_type": "code",
   "execution_count": 13,
   "metadata": {},
   "outputs": [
    {
     "data": {
      "text/html": [
       "<div>\n",
       "<style scoped>\n",
       "    .dataframe tbody tr th:only-of-type {\n",
       "        vertical-align: middle;\n",
       "    }\n",
       "\n",
       "    .dataframe tbody tr th {\n",
       "        vertical-align: top;\n",
       "    }\n",
       "\n",
       "    .dataframe thead th {\n",
       "        text-align: right;\n",
       "    }\n",
       "</style>\n",
       "<table border=\"1\" class=\"dataframe\">\n",
       "  <thead>\n",
       "    <tr style=\"text-align: right;\">\n",
       "      <th></th>\n",
       "      <th>Unnamed: 0</th>\n",
       "      <th>Image Data ID</th>\n",
       "      <th>Subject</th>\n",
       "      <th>Group</th>\n",
       "      <th>Sex</th>\n",
       "      <th>Age</th>\n",
       "      <th>Visit</th>\n",
       "      <th>Modality</th>\n",
       "      <th>Description</th>\n",
       "      <th>Type</th>\n",
       "      <th>Acq Date</th>\n",
       "      <th>Format</th>\n",
       "      <th>Downloaded</th>\n",
       "      <th>Progression</th>\n",
       "      <th>Stage</th>\n",
       "      <th>Event ID</th>\n",
       "    </tr>\n",
       "  </thead>\n",
       "  <tbody>\n",
       "    <tr>\n",
       "      <th>0</th>\n",
       "      <td>3</td>\n",
       "      <td>406544</td>\n",
       "      <td>3817</td>\n",
       "      <td>Control</td>\n",
       "      <td>M</td>\n",
       "      <td>75</td>\n",
       "      <td>0</td>\n",
       "      <td>MRI</td>\n",
       "      <td>T2 in T1-anatomical space</td>\n",
       "      <td>Processed</td>\n",
       "      <td>1/15/2013</td>\n",
       "      <td>NiFTI</td>\n",
       "      <td>NaN</td>\n",
       "      <td>0</td>\n",
       "      <td>0</td>\n",
       "      <td>348</td>\n",
       "    </tr>\n",
       "  </tbody>\n",
       "</table>\n",
       "</div>"
      ],
      "text/plain": [
       "   Unnamed: 0  Image Data ID  Subject    Group Sex  Age  Visit Modality  \\\n",
       "0           3         406544     3817  Control   M   75      0      MRI   \n",
       "\n",
       "                 Description       Type   Acq Date Format Downloaded  \\\n",
       "0  T2 in T1-anatomical space  Processed  1/15/2013  NiFTI        NaN   \n",
       "\n",
       "   Progression  Stage  Event ID  \n",
       "0            0      0       348  "
      ]
     },
     "execution_count": 13,
     "metadata": {},
     "output_type": "execute_result"
    }
   ],
   "source": [
    "mri_df.head(1)"
   ]
  },
  {
   "cell_type": "code",
   "execution_count": 14,
   "metadata": {},
   "outputs": [
    {
     "name": "stdout",
     "output_type": "stream",
     "text": [
      "(2043, 16)\n"
     ]
    }
   ],
   "source": [
    "no_prog_mri = mri_df[mri_df['Event ID'] == -1]\n",
    "print(no_prog_mri.shape)"
   ]
  },
  {
   "cell_type": "code",
   "execution_count": 15,
   "metadata": {},
   "outputs": [
    {
     "data": {
      "text/html": [
       "<div>\n",
       "<style scoped>\n",
       "    .dataframe tbody tr th:only-of-type {\n",
       "        vertical-align: middle;\n",
       "    }\n",
       "\n",
       "    .dataframe tbody tr th {\n",
       "        vertical-align: top;\n",
       "    }\n",
       "\n",
       "    .dataframe thead th {\n",
       "        text-align: right;\n",
       "    }\n",
       "</style>\n",
       "<table border=\"1\" class=\"dataframe\">\n",
       "  <thead>\n",
       "    <tr style=\"text-align: right;\">\n",
       "      <th></th>\n",
       "      <th>Unnamed: 0</th>\n",
       "      <th>Image Data ID</th>\n",
       "      <th>Subject</th>\n",
       "      <th>Group</th>\n",
       "      <th>Sex</th>\n",
       "      <th>Age</th>\n",
       "      <th>Visit</th>\n",
       "      <th>Modality</th>\n",
       "      <th>Description</th>\n",
       "      <th>Type</th>\n",
       "      <th>Acq Date</th>\n",
       "      <th>Format</th>\n",
       "      <th>Downloaded</th>\n",
       "      <th>Progression</th>\n",
       "      <th>Stage</th>\n",
       "      <th>Event ID</th>\n",
       "    </tr>\n",
       "  </thead>\n",
       "  <tbody>\n",
       "    <tr>\n",
       "      <th>1</th>\n",
       "      <td>10</td>\n",
       "      <td>410941</td>\n",
       "      <td>3816</td>\n",
       "      <td>Control</td>\n",
       "      <td>M</td>\n",
       "      <td>66</td>\n",
       "      <td>0</td>\n",
       "      <td>MRI</td>\n",
       "      <td>T2 in T1-anatomical space</td>\n",
       "      <td>Processed</td>\n",
       "      <td>12/04/2012</td>\n",
       "      <td>NiFTI</td>\n",
       "      <td>NaN</td>\n",
       "      <td>0</td>\n",
       "      <td>0</td>\n",
       "      <td>-1</td>\n",
       "    </tr>\n",
       "  </tbody>\n",
       "</table>\n",
       "</div>"
      ],
      "text/plain": [
       "   Unnamed: 0  Image Data ID  Subject    Group Sex  Age  Visit Modality  \\\n",
       "1          10         410941     3816  Control   M   66      0      MRI   \n",
       "\n",
       "                 Description       Type    Acq Date Format Downloaded  \\\n",
       "1  T2 in T1-anatomical space  Processed  12/04/2012  NiFTI        NaN   \n",
       "\n",
       "   Progression  Stage  Event ID  \n",
       "1            0      0        -1  "
      ]
     },
     "execution_count": 15,
     "metadata": {},
     "output_type": "execute_result"
    }
   ],
   "source": [
    "no_prog_mri.head(1)"
   ]
  },
  {
   "cell_type": "code",
   "execution_count": 16,
   "metadata": {},
   "outputs": [
    {
     "name": "stdout",
     "output_type": "stream",
     "text": [
      "(4518, 16)\n"
     ]
    }
   ],
   "source": [
    "print(mri_df.shape)"
   ]
  },
  {
   "cell_type": "code",
   "execution_count": 38,
   "metadata": {},
   "outputs": [],
   "source": [
    "import pickle\n",
    "\n",
    "features_train = pickle.load( open( \"features_train.pickle\", \"rb\" ) )\n",
    "features_test = pickle.load( open( \"features_test.pickle\", \"rb\" ) )"
   ]
  },
  {
   "cell_type": "code",
   "execution_count": 43,
   "metadata": {},
   "outputs": [],
   "source": [
    "def get_image_id(filename):\n",
    "    parts = filename.split('/')\n",
    "    patno = pd.to_numeric(parts[4])\n",
    "    descr = ' '.join(parts[5].split('_'))\n",
    "    \n",
    "    pat_rows = mri_df[mri_df['Subject'] == patno]\n",
    "    descr_rows = pat_rows[pat_rows['Description'] == descr]\n",
    "    \n",
    "    if descr_rows.shape[0] > 0:\n",
    "        return descr_rows.iloc[0]['Image Data ID']\n",
    "    \n",
    "# get_image_id('../ppmi/cd-pd/PPMI/3122/Axial_PD-T2_TSE/2012-05-09_09_21_52.0/S151230')"
   ]
  },
  {
   "cell_type": "code",
   "execution_count": 44,
   "metadata": {},
   "outputs": [
    {
     "name": "stdout",
     "output_type": "stream",
     "text": [
      "(177, 409600)\n"
     ]
    }
   ],
   "source": [
    "def feature_row(filename, dataset):\n",
    "    img = get_image_id(filename)\n",
    "    if img:\n",
    "        img_feat = dataset[filename].flatten()\n",
    "        return pd.DataFrame([[img] + img_feat])\n",
    "\n",
    "feature_df = pd.concat([feature_row(f, features) for f in features], ignore_index=True)\n",
    "print(feature_df.shape)"
   ]
  },
  {
   "cell_type": "code",
   "execution_count": null,
   "metadata": {},
   "outputs": [],
   "source": []
  }
 ],
 "metadata": {
  "kernelspec": {
   "display_name": "Python 3",
   "language": "python",
   "name": "python3"
  },
  "language_info": {
   "codemirror_mode": {
    "name": "ipython",
    "version": 3
   },
   "file_extension": ".py",
   "mimetype": "text/x-python",
   "name": "python",
   "nbconvert_exporter": "python",
   "pygments_lexer": "ipython3",
   "version": "3.7.0"
  }
 },
 "nbformat": 4,
 "nbformat_minor": 2
}
