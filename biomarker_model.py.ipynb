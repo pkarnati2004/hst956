{
 "cells": [
  {
   "cell_type": "code",
   "execution_count": 1,
   "metadata": {},
   "outputs": [],
   "source": [
    "import numpy as np\n",
    "import pandas as pd\n",
    "from matplotlib import pyplot as plt\n",
    "from scipy import stats\n",
    "import os"
   ]
  },
  {
   "cell_type": "code",
   "execution_count": 2,
   "metadata": {},
   "outputs": [
    {
     "name": "stdout",
     "output_type": "stream",
     "text": [
      "Int64Index([3071, 3386, 3400, 4074, 4093, 3392, 4082, 3390, 3389, 3387,\n",
      "            ...\n",
      "            3756, 3755, 3754, 3753, 3752, 3751, 3750, 4085, 4037, 3072],\n",
      "           dtype='int64', length=683)\n"
     ]
    }
   ],
   "source": [
    "baseline_df = pd.read_csv('Curated_Data_Cuts_Files/PPMI_Baseline_Data_02Jul2018.csv')\n",
    "years_df = pd.read_csv('Curated_Data_Cuts_Files/PPMI_Year_1-3_Data_02Jul2018.csv')\n",
    "mri_df = pd.read_csv('mri_t2_progression.csv')\n",
    "\n",
    "print(baseline_df['PATNO'].value_counts().index)"
   ]
  },
  {
   "cell_type": "code",
   "execution_count": 3,
   "metadata": {},
   "outputs": [],
   "source": [
    "## Get patient numbers with critical info and MRI scans\n",
    "mri_patno_counts = mri_df['Subject'].value_counts()\n",
    "mri_ids = mri_patno_counts.index\n",
    "\n",
    "baseline_df = baseline_df[baseline_df['PATNO'].isin(mri_ids)]\n",
    "years_df = years_df[years_df['PATNO'].isin(mri_ids)]"
   ]
  },
  {
   "cell_type": "code",
   "execution_count": 4,
   "metadata": {},
   "outputs": [
    {
     "name": "stdout",
     "output_type": "stream",
     "text": [
      "Int64Index([4085, 4135, 3362, 3364, 3368, 3369, 3010, 3374, 3375, 3377,\n",
      "            ...\n",
      "            3638, 3650, 3651, 3653, 3654, 3656, 3657, 3658, 3659, 4121],\n",
      "           dtype='int64', length=419)\n"
     ]
    }
   ],
   "source": [
    "print(baseline_df['PATNO'].value_counts().index)"
   ]
  },
  {
   "cell_type": "code",
   "execution_count": 5,
   "metadata": {},
   "outputs": [],
   "source": [
    "## Define biomarkers to keep from each set\n",
    "years_col = years_df.columns\n",
    "bl_col = baseline_df.columns\n",
    "same_col = years_col.intersection(bl_col)\n",
    "only_years_col = years_col.drop(same_col)\n",
    "# print(only_years_col)\n",
    "only_bl_col = bl_col.drop(same_col)\n",
    "# print(only_bl_col)\n",
    "\n",
    "only_bl_bm_col = only_bl_col.drop(['symptom5_comment', 'symptom6', 'APOE', 'SNCA_rs356181', 'SNCA_rs3910105', 'MAPT'])\n",
    "both_bm_col = same_col.drop([\n",
    "    'SITE', 'NHY'\n",
    "])"
   ]
  },
  {
   "cell_type": "code",
   "execution_count": 6,
   "metadata": {},
   "outputs": [
    {
     "name": "stdout",
     "output_type": "stream",
     "text": [
      "(1184, 128)\n",
      "(419, 128)\n",
      "(1603, 128)\n",
      "2    585\n",
      "0    554\n",
      "1    311\n",
      ".    120\n",
      "3     33\n",
      "Name: hy, dtype: int64\n"
     ]
    },
    {
     "name": "stderr",
     "output_type": "stream",
     "text": [
      "/usr/local/lib/python3.7/site-packages/ipykernel_launcher.py:10: SettingWithCopyWarning: \n",
      "A value is trying to be set on a copy of a slice from a DataFrame.\n",
      "Try using .loc[row_indexer,col_indexer] = value instead\n",
      "\n",
      "See the caveats in the documentation: http://pandas.pydata.org/pandas-docs/stable/indexing.html#indexing-view-versus-copy\n",
      "  # Remove the CWD from sys.path while we load stuff.\n",
      "/usr/local/lib/python3.7/site-packages/pandas/core/frame.py:6692: FutureWarning: Sorting because non-concatenation axis is not aligned. A future version\n",
      "of pandas will change to not sort by default.\n",
      "\n",
      "To accept the future behavior, pass 'sort=False'.\n",
      "\n",
      "To retain the current behavior and silence the warning, pass 'sort=True'.\n",
      "\n",
      "  sort=sort)\n"
     ]
    }
   ],
   "source": [
    "## Create dataframe with selected biomarkers\n",
    "only_bl_bm_df = baseline_df[only_bl_bm_col.append(pd.Index(['PATNO']))]\n",
    "\n",
    "years_bm_df = years_df[both_bm_col.append(pd.Index(['YEAR']))]\n",
    "years_bm_df = years_bm_df.merge(only_bl_bm_df, on='PATNO', suffixes=(False, '_bl'))\n",
    "years_bm_df.index = pd.Index([i for i in range(years_bm_df.shape[0])])\n",
    "print(years_bm_df.shape)\n",
    "\n",
    "bl_bm_df = baseline_df[both_bm_col.append(only_bl_bm_col)]\n",
    "bl_bm_df['YEAR'] = pd.Series([0 for i in range(bl_bm_df.shape[0])])\n",
    "bl_bm_df.index = pd.Index([i + years_bm_df.shape[0] for i in range(bl_bm_df.shape[0])])\n",
    "print(bl_bm_df.shape)\n",
    "\n",
    "events_df = years_bm_df.append(bl_bm_df)\n",
    "print(events_df.shape)\n",
    "print(events_df['hy'].value_counts())"
   ]
  },
  {
   "cell_type": "code",
   "execution_count": 7,
   "metadata": {},
   "outputs": [
    {
     "name": "stdout",
     "output_type": "stream",
     "text": [
      "0.0\n",
      "(1603, 81)\n"
     ]
    }
   ],
   "source": [
    "## Standardize null format, keep biomarkers with >=80% representation\n",
    "events_df_nulls = events_df.replace('.', np.nan)\n",
    "col_nulls = events_df_nulls.isnull().sum(axis = 0) / events_df.shape[0]\n",
    "print(col_nulls['race'])\n",
    "events_col_keep = [i for i in (col_nulls < 0.2).index if (col_nulls < 0.2)[i]]\n",
    "events_populated = events_df_nulls[events_col_keep]\n",
    "print(events_populated.shape)"
   ]
  },
  {
   "cell_type": "code",
   "execution_count": 8,
   "metadata": {},
   "outputs": [
    {
     "name": "stdout",
     "output_type": "stream",
     "text": [
      "(906, 81)\n"
     ]
    }
   ],
   "source": [
    "## Remove rows with nulls from merged data\n",
    "events_hasna = events_populated[events_populated.isna().any(axis=1)]\n",
    "drop_rows = events_hasna.index\n",
    "events_bm = events_populated.drop(drop_rows)\n",
    "print(events_bm.shape)"
   ]
  },
  {
   "cell_type": "code",
   "execution_count": 9,
   "metadata": {},
   "outputs": [],
   "source": [
    "## Convert numeric entries to number variable types\n",
    "for i in events_bm.columns:\n",
    "    events_bm[i] = pd.to_numeric(events_bm[i], errors='ignore')"
   ]
  },
  {
   "cell_type": "code",
   "execution_count": 10,
   "metadata": {},
   "outputs": [
    {
     "name": "stdout",
     "output_type": "stream",
     "text": [
      "2    365\n",
      "0    349\n",
      "1    177\n",
      "3     15\n",
      "Name: hy, dtype: int64\n",
      "1    550\n",
      "2    356\n",
      "Name: APPRDX, dtype: int64\n",
      "1    624\n",
      "2    282\n",
      "Name: gen, dtype: int64\n",
      "1    853\n",
      "4     26\n",
      "2     24\n",
      "3      3\n",
      "Name: race, dtype: int64\n",
      "2    353\n",
      "1    277\n",
      "3    276\n",
      "Name: age_cat, dtype: int64\n"
     ]
    }
   ],
   "source": [
    "print(events_bm['hy'].value_counts())\n",
    "print(events_bm['APPRDX'].value_counts())\n",
    "print(events_bm['gen'].value_counts())\n",
    "print(events_bm['race'].value_counts())\n",
    "print(events_bm['age_cat'].value_counts())"
   ]
  },
  {
   "cell_type": "code",
   "execution_count": 11,
   "metadata": {},
   "outputs": [],
   "source": [
    "## Create dataframe of stage progressions for each patient\n",
    "patnos = events_bm['PATNO'].value_counts().index\n",
    "\n",
    "def stage_row(patno):\n",
    "    dur = baseline_df[baseline_df['PATNO'] == patno]['duration'].iloc[0]\n",
    "    bl_hy = baseline_df[baseline_df['PATNO'] == patno]['hy'].iloc[0]\n",
    "    \n",
    "    years_rows = years_df[years_df['PATNO'] == patno]\n",
    "    \n",
    "    y1 = years_rows[years_rows['YEAR'] == 1]\n",
    "    if (y1.shape[0] > 0):\n",
    "        y1_hy = y1['hy'].iloc[0]\n",
    "    else:\n",
    "        y1_hy = '.'\n",
    "        \n",
    "    y2 = years_rows[years_rows['YEAR'] == 2]\n",
    "    if (y2.shape[0] > 0):\n",
    "        y2_hy = y2['hy'].iloc[0]\n",
    "    else:\n",
    "        y2_hy = '.'\n",
    "        \n",
    "    y3 = years_rows[years_rows['YEAR'] == 3]\n",
    "    if (y3.shape[0] > 0):\n",
    "        y3_hy = y3['hy'].iloc[0]\n",
    "    else:\n",
    "        y3_hy = '.'\n",
    "    \n",
    "    new_row = pd.DataFrame([[patno, dur, bl_hy, y1_hy, y2_hy, y3_hy]])\n",
    "    return new_row\n",
    "\n",
    "stage_df = pd.concat([stage_row(i) for i in patnos], ignore_index=True)\n",
    "stage_df.columns = ['PATNO', 'duration', 'bl_hy', 'y1_hy', 'y2_hy', 'y3_hy']\n",
    "\n",
    "# print(stage_df)"
   ]
  },
  {
   "cell_type": "code",
   "execution_count": 12,
   "metadata": {},
   "outputs": [],
   "source": [
    "## Assign progression label to each entry\n",
    "def prog_label(row_index):\n",
    "    event_row = events_bm.loc[row_index]\n",
    "    pat_row = stage_df[stage_df['PATNO'] == event_row['PATNO']]\n",
    "    visit = event_row['YEAR']\n",
    "    \n",
    "    bl = pat_row['bl_hy'].iloc[0]\n",
    "    y1 = pat_row['y1_hy'].iloc[0]\n",
    "    y2 = pat_row['y2_hy'].iloc[0]\n",
    "    y3 = pat_row['y3_hy'].iloc[0]\n",
    "    \n",
    "    if visit == 0 and bl != '.' and y1 != '.':\n",
    "        label = int(y1 > bl)\n",
    "    elif visit == 1 and y1 != '.' and y2 != '.':\n",
    "        label = int(y2 > y1)\n",
    "    elif visit == 2 and y2 != '.' and y3 != '.':\n",
    "        label = int(y3 > y2)\n",
    "    else:\n",
    "        label = -1\n",
    "    \n",
    "    return label\n",
    "\n",
    "events_bm['Progression'] = [prog_label(i) for i in events_bm.index]"
   ]
  },
  {
   "cell_type": "code",
   "execution_count": 13,
   "metadata": {},
   "outputs": [],
   "source": [
    "events_prog = events_bm[events_bm['Progression'] != -1]\n",
    "\n",
    "events_race = events_prog['race']\n",
    "race_onehot = np.zeros((events_prog.shape[0], 4))\n",
    "race_onehot[np.arange(events_prog.shape[0]), events_race-1] = 1\n",
    "race_df = pd.DataFrame(race_onehot, columns=['race_white', 'race_black', 'race_asian', 'race_other'])\n",
    "race_df.index = events_prog.index\n",
    "\n",
    "events_prog.drop(['race'], axis=1)\n",
    "events_prog = events_prog.join(race_df)\n",
    "\n",
    "events_prog.to_csv('events_biomarkers.csv')"
   ]
  },
  {
   "cell_type": "code",
   "execution_count": 14,
   "metadata": {},
   "outputs": [],
   "source": [
    "x_cols = events_prog.columns.drop(['YEAR', 'EVENT_ID', 'PATNO', 'Progression', 'hy', 'APPRDX'])\n",
    "events_x = events_prog[x_cols]\n",
    "events_y = events_prog['Progression']"
   ]
  },
  {
   "cell_type": "code",
   "execution_count": 15,
   "metadata": {},
   "outputs": [
    {
     "data": {
      "text/plain": [
       "0    565\n",
       "1     78\n",
       "Name: Progression, dtype: int64"
      ]
     },
     "execution_count": 15,
     "metadata": {},
     "output_type": "execute_result"
    }
   ],
   "source": [
    "events_y.value_counts()"
   ]
  },
  {
   "cell_type": "code",
   "execution_count": 16,
   "metadata": {},
   "outputs": [
    {
     "name": "stdout",
     "output_type": "stream",
     "text": [
      "         0         1         2         3         4         5         6   \\\n",
      "0 -0.556829 -0.052592  0.188073 -0.734601 -0.253186  0.544374  0.976363   \n",
      "\n",
      "         7         8         9   ...        70        71        72       73  \\\n",
      "0  1.199577 -0.352352 -0.453611  ... -0.864443 -0.234076 -0.849879 -0.57158   \n",
      "\n",
      "        74        75        76        77        78        79  \n",
      "0 -0.64558  1.786644  0.246903 -0.164664 -0.055815 -0.169574  \n",
      "\n",
      "[1 rows x 80 columns]\n"
     ]
    }
   ],
   "source": [
    "events_x_norm = pd.DataFrame(stats.zscore(events_x, axis=0, ddof=1))\n",
    "print(events_x_norm.head(1))"
   ]
  },
  {
   "cell_type": "code",
   "execution_count": 17,
   "metadata": {},
   "outputs": [],
   "source": [
    "## Create train, test, valid sets\n",
    "from sklearn.model_selection import train_test_split\n",
    "\n",
    "X_train, X_test, y_train, y_test = train_test_split(events_x, events_y, test_size=0.2, random_state=42)\n",
    "X_train, X_val, y_train, y_val = train_test_split(X_train, y_train, test_size=0.2, random_state=1)"
   ]
  },
  {
   "cell_type": "code",
   "execution_count": 18,
   "metadata": {},
   "outputs": [
    {
     "name": "stderr",
     "output_type": "stream",
     "text": [
      "/usr/local/lib/python3.7/site-packages/sklearn/linear_model/logistic.py:433: FutureWarning: Default solver will be changed to 'lbfgs' in 0.22. Specify a solver to silence this warning.\n",
      "  FutureWarning)\n",
      "/usr/local/lib/python3.7/site-packages/sklearn/linear_model/logistic.py:433: FutureWarning: Default solver will be changed to 'lbfgs' in 0.22. Specify a solver to silence this warning.\n",
      "  FutureWarning)\n",
      "/usr/local/lib/python3.7/site-packages/sklearn/linear_model/logistic.py:433: FutureWarning: Default solver will be changed to 'lbfgs' in 0.22. Specify a solver to silence this warning.\n",
      "  FutureWarning)\n",
      "/usr/local/lib/python3.7/site-packages/sklearn/linear_model/logistic.py:433: FutureWarning: Default solver will be changed to 'lbfgs' in 0.22. Specify a solver to silence this warning.\n",
      "  FutureWarning)\n",
      "/usr/local/lib/python3.7/site-packages/sklearn/linear_model/logistic.py:433: FutureWarning: Default solver will be changed to 'lbfgs' in 0.22. Specify a solver to silence this warning.\n",
      "  FutureWarning)\n",
      "/usr/local/lib/python3.7/site-packages/sklearn/linear_model/logistic.py:433: FutureWarning: Default solver will be changed to 'lbfgs' in 0.22. Specify a solver to silence this warning.\n",
      "  FutureWarning)\n",
      "/usr/local/lib/python3.7/site-packages/sklearn/linear_model/logistic.py:433: FutureWarning: Default solver will be changed to 'lbfgs' in 0.22. Specify a solver to silence this warning.\n",
      "  FutureWarning)\n",
      "/usr/local/lib/python3.7/site-packages/sklearn/linear_model/logistic.py:433: FutureWarning: Default solver will be changed to 'lbfgs' in 0.22. Specify a solver to silence this warning.\n",
      "  FutureWarning)\n",
      "/usr/local/lib/python3.7/site-packages/sklearn/linear_model/logistic.py:433: FutureWarning: Default solver will be changed to 'lbfgs' in 0.22. Specify a solver to silence this warning.\n",
      "  FutureWarning)\n",
      "/usr/local/lib/python3.7/site-packages/sklearn/linear_model/logistic.py:433: FutureWarning: Default solver will be changed to 'lbfgs' in 0.22. Specify a solver to silence this warning.\n",
      "  FutureWarning)\n"
     ]
    },
    {
     "name": "stdout",
     "output_type": "stream",
     "text": [
      "C=0.01 | p=l1 :: train AUC=0.6846565566458519 ; valid AUC=0.4268774703557312\n",
      "C=0.01 | p=l2 :: train AUC=0.7945286946179007 ; valid AUC=0.49011857707509876\n",
      "C=0.1 | p=l1 :: train AUC=0.7778273367033403 ; valid AUC=0.5187747035573123\n",
      "C=0.1 | p=l2 :: train AUC=0.83843790266627 ; valid AUC=0.49901185770750983\n",
      "C=0.25 | p=l1 :: train AUC=0.8246605213598969 ; valid AUC=0.5039525691699605\n",
      "C=0.25 | p=l2 :: train AUC=0.8486966002577063 ; valid AUC=0.4940711462450593\n",
      "C=0.5 | p=l1 :: train AUC=0.8395777579542074 ; valid AUC=0.4822134387351778\n",
      "C=0.5 | p=l2 :: train AUC=0.8546436713252057 ; valid AUC=0.48221343873517786\n",
      "C=1 | p=l1 :: train AUC=0.8464664486073943 ; valid AUC=0.4782608695652174\n",
      "C=1 | p=l2 :: train AUC=0.8600455942115175 ; valid AUC=0.47430830039525684\n",
      "Best model: C = 0.1, penalty: l1\n",
      "test AUC:  0.6974789915966386\n"
     ]
    }
   ],
   "source": [
    "from sklearn.linear_model import LogisticRegression \n",
    "from sklearn.metrics import roc_auc_score\n",
    "\n",
    "def select_best_model(train_X, train_y, valid_X, valid_y, C_options, penalty_options):\n",
    "    best_model, best_C, best_penalty, best_score = None, None, None, 0 \n",
    "    for C in C_options:\n",
    "        for penalty in penalty_options:\n",
    "            model = LogisticRegression(C=C, penalty=penalty).fit(train_X, train_y)\n",
    "            train_pred = [p[1] for p in model.predict_proba(train_X)]\n",
    "            train_auc = roc_auc_score(train_y, train_pred)\n",
    "            valid_pred = [p[1] for p in model.predict_proba(valid_X)]\n",
    "            valid_auc = roc_auc_score(valid_y, valid_pred)\n",
    "            print(\"C=\" + str(C) + \" | p=\" + penalty + \" :: train AUC=\" + str(train_auc) + \" ; valid AUC=\" + str(valid_auc))\n",
    "            if valid_auc > best_score:\n",
    "                best_model, best_C, best_penalty, best_score = model, C, penalty, valid_auc\n",
    "    print(\"Best model: C = \" + str(best_C) + \", penalty: \" + str(best_penalty))\n",
    "    return best_model\n",
    "\n",
    "model = select_best_model(X_train, y_train, X_val, y_val, [0.01, 0.1, 0.25, 0.5, 1], ['l1', 'l2'])\n",
    "test_pred = [p[1] for p in model.predict_proba(X_test)]\n",
    "print(\"test AUC: \", roc_auc_score(y_test, test_pred))"
   ]
  },
  {
   "cell_type": "code",
   "execution_count": 19,
   "metadata": {},
   "outputs": [
    {
     "data": {
      "image/png": "[encoded data removed]",
      "text/plain": [
       "<Figure size 432x288 with 1 Axes>"
      ]
     },
     "metadata": {
      "needs_background": "light"
     },
     "output_type": "display_data"
    }
   ],
   "source": [
    "from sklearn.metrics import roc_curve, auc\n",
    "\n",
    "fpr, tpr, _ = roc_curve(y_test, test_pred)\n",
    "roc_auc = auc(fpr, tpr)\n",
    "\n",
    "plt.figure()\n",
    "lw = 2\n",
    "plt.plot(fpr, tpr, color='darkorange',\n",
    "         lw=lw, label='ROC curve (area = %0.2f)' % roc_auc)\n",
    "plt.plot([0, 1], [0, 1], color='navy', lw=lw, linestyle='--')\n",
    "plt.xlim([0.0, 1.0])\n",
    "plt.ylim([0.0, 1.05])\n",
    "plt.xlabel('False Positive Rate')\n",
    "plt.ylabel('True Positive Rate')\n",
    "plt.title('Receiver operating characteristic for progression prediction')\n",
    "plt.legend(loc=\"lower right\")\n",
    "plt.show()"
   ]
  },
  {
   "cell_type": "code",
   "execution_count": 28,
   "metadata": {},
   "outputs": [
    {
     "name": "stdout",
     "output_type": "stream",
     "text": [
      "MOST POSIVITE ++\n",
      "scopa_gi: 0.057875272698698584\n",
      "tremor: 0.048599598759865165\n",
      "hvlt_immediaterecall: 0.02972475656898236\n",
      "updrs2_score: 0.022020461781223164\n",
      "moca: 0.018033036239282464\n",
      "scopa_sex: 0.01793884529437788\n",
      "VLTANIM: 0.014519980034604744\n",
      "updrs_totscore: 0.009884111664609584\n",
      "stai_trait: 0.007433777232365605\n",
      "sft: 0.004338265999895547\n",
      "\n",
      "MOST NEGATIVE --\n",
      "td_pigd_old: -0.3098806522753787\n",
      "rigidity: -0.08728229339807902\n",
      "ess: -0.06691699330871362\n",
      "rem: -0.024076209992527967\n",
      "SNCA_rs356181_cat: -0.021075782330976935\n",
      "age: -0.013739240289120772\n",
      "lns: -0.010687994841768618\n",
      "SDMTOTAL: -0.010611100514752718\n",
      "tau: -0.01009412800603597\n",
      "HVLTRDLY: -0.004735920655484472\n",
      "\n",
      "scopa_gi: 0.057875272698698584\n",
      "tremor: 0.048599598759865165\n",
      "hvlt_immediaterecall: 0.02972475656898236\n",
      "updrs2_score: 0.022020461781223164\n",
      "moca: 0.018033036239282464\n",
      "scopa_sex: 0.01793884529437788\n",
      "VLTANIM: 0.014519980034604744\n",
      "updrs_totscore: 0.009884111664609584\n",
      "stai_trait: 0.007433777232365605\n",
      "sft: 0.004338265999895547\n",
      "hvlt_discrimination: 0.00250276857898003\n",
      "asyn: 0.0009531085392758632\n",
      "APOE_e4: 0.0\n",
      "EDUCYRS: 0.0\n",
      "HISPLAT: 0.0\n",
      "HVLTFPRL: 0.0\n",
      "HVLTREC: 0.0\n",
      "MAPT_cat: 0.0\n",
      "NP1ANXS: 0.0\n",
      "NP1APAT: 0.0\n",
      "NP1COG: 0.0\n",
      "NP1DDS: 0.0\n",
      "NP1DPRS: 0.0\n",
      "NP1FATG: 0.0\n",
      "NP1HALL: 0.0\n",
      "PD_MED_USE: 0.0\n",
      "SNCA_rs3910105_cat: 0.0\n",
      "VLTFRUIT: 0.0\n",
      "VLTVEG: 0.0\n",
      "ab_asyn: 0.0\n",
      "age_cat: 0.0\n",
      "bjlot: 0.0\n",
      "educ: 0.0\n",
      "ess_cat: 0.0\n",
      "fampd_new: 0.0\n",
      "fampd_old: 0.0\n",
      "gds: 0.0\n",
      "gds_cat: 0.0\n",
      "gen: 0.0\n",
      "hemohi: 0.0\n",
      "hvlt_retention: 0.0\n",
      "quip: 0.0\n",
      "quip_any: 0.0\n",
      "quip_buy: 0.0\n",
      "quip_eat: 0.0\n",
      "quip_gamble: 0.0\n",
      "quip_hobby: 0.0\n",
      "quip_pund: 0.0\n",
      "quip_sex: 0.0\n",
      "quip_walk: 0.0\n",
      "race: 0.0\n",
      "rem_cat: 0.0\n",
      "rem_q6: 0.0\n",
      "scopa: 0.0\n",
      "scopa_cv: 0.0\n",
      "scopa_pm: 0.0\n",
      "scopa_therm: 0.0\n",
      "scopa_ur: 0.0\n",
      "stai: 0.0\n",
      "tau_asyn: 0.0\n",
      "td_pigd: 0.0\n",
      "updrs1_score: 0.0\n",
      "updrs3_score: 0.0\n",
      "race_white: 0.0\n",
      "race_black: 0.0\n",
      "race_asian: 0.0\n",
      "race_other: 0.0\n",
      "abeta: -0.0010713544587795313\n",
      "urate: -0.0012919241700407587\n",
      "stai_state: -0.003874651437425146\n",
      "HVLTRDLY: -0.004735920655484472\n",
      "tau: -0.01009412800603597\n",
      "SDMTOTAL: -0.010611100514752718\n",
      "lns: -0.010687994841768618\n",
      "age: -0.013739240289120772\n",
      "SNCA_rs356181_cat: -0.021075782330976935\n",
      "rem: -0.024076209992527967\n",
      "ess: -0.06691699330871362\n",
      "rigidity: -0.08728229339807902\n",
      "td_pigd_old: -0.3098806522753787\n"
     ]
    }
   ],
   "source": [
    "def sort_features(model, features):\n",
    "    coef = model.coef_\n",
    "    feature_coef = [(features[i], coef[0,i]) for i in range(len(features))]\n",
    "    sorted_feature_coef = sorted(feature_coef, key=lambda x: -x[1]) \n",
    "    return sorted_feature_coef\n",
    "\n",
    "def display_most_predictive_features(sorted_features, n, positive=True): \n",
    "    if positive:\n",
    "        for i in range(n):\n",
    "            print(sorted_features[i][0] + \": \" + str(sorted_features[i][1]))\n",
    "    else:\n",
    "        for i in range(len(sorted_features) - 1, len(sorted_features) - 1 - n, -1):\n",
    "            print(sorted_features[i][0] + \": \" + str(sorted_features[i][1]))\n",
    "\n",
    "feat = sort_features(model, list(events_x.columns))\n",
    "print(\"MOST POSIVITE ++\")\n",
    "display_most_predictive_features(feat, 10)\n",
    "print()\n",
    "print(\"MOST NEGATIVE --\")\n",
    "display_most_predictive_features(feat, 10, False)\n",
    "print()\n",
    "display_most_predictive_features(feat, 80)"
   ]
  },
  {
   "cell_type": "code",
   "execution_count": null,
   "metadata": {},
   "outputs": [],
   "source": []
  }
 ],
 "metadata": {
  "kernelspec": {
   "display_name": "Python 3",
   "language": "python",
   "name": "python3"
  },
  "language_info": {
   "codemirror_mode": {
    "name": "ipython",
    "version": 3
   },
   "file_extension": ".py",
   "mimetype": "text/x-python",
   "name": "python",
   "nbconvert_exporter": "python",
   "pygments_lexer": "ipython3",
   "version": "3.7.0"
  }
 },
 "nbformat": 4,
 "nbformat_minor": 2
}
