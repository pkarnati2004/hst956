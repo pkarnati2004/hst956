{
 "cells": [
  {
   "cell_type": "code",
   "execution_count": 1,
   "metadata": {},
   "outputs": [],
   "source": [
    "import numpy as np\n",
    "import pandas as pd\n",
    "from matplotlib import pyplot as plt\n",
    "import os"
   ]
  },
  {
   "cell_type": "code",
   "execution_count": 2,
   "metadata": {},
   "outputs": [],
   "source": [
    "## Load Datasets\n",
    "baseline_df = pd.read_csv('Curated_Data_Cuts_Files/PPMI_Baseline_Data_02Jul2018.csv')\n",
    "years_df = pd.read_csv('Curated_Data_Cuts_Files/PPMI_Year_1-3_Data_02Jul2018.csv')\n",
    "mri_df = pd.read_csv('MRI.csv')"
   ]
  },
  {
   "cell_type": "code",
   "execution_count": 3,
   "metadata": {},
   "outputs": [],
   "source": [
    "## Get patients that have both baseline and year progression data\n",
    "baseline_patno_counts = baseline_df[\"PATNO\"].value_counts()\n",
    "baseline_ids = baseline_patno_counts.index\n",
    "years_patno_counts = years_df[\"PATNO\"].value_counts()\n",
    "years_ids = years_patno_counts.index\n",
    "stage_data_ids = pd.Series(list(set(years_ids) & set(baseline_ids)))"
   ]
  },
  {
   "cell_type": "code",
   "execution_count": 4,
   "metadata": {},
   "outputs": [],
   "source": [
    "baseline_df = baseline_df[baseline_df['PATNO'].isin(stage_data_ids)]\n",
    "years_df = years_df[years_df['PATNO'].isin(stage_data_ids)]"
   ]
  },
  {
   "cell_type": "code",
   "execution_count": 5,
   "metadata": {},
   "outputs": [
    {
     "data": {
      "text/plain": [
       "Text(0,0.5,'Number of Patients')"
      ]
     },
     "execution_count": 5,
     "metadata": {},
     "output_type": "execute_result"
    },
    {
     "data": {
      "image/png": "[encoded data removed]",
      "text/plain": [
       "<Figure size 432x288 with 1 Axes>"
      ]
     },
     "metadata": {
      "needs_background": "light"
     },
     "output_type": "display_data"
    }
   ],
   "source": [
    "years_patno_counts = years_df[\"PATNO\"].value_counts()\n",
    "plot = years_patno_counts.hist(bins=3)\n",
    "plot.set_title(\"\")\n",
    "plot.set_xlabel(\"Number of Year Measurements per Patient\")\n",
    "plot.set_ylabel(\"Number of Patients\")"
   ]
  },
  {
   "cell_type": "code",
   "execution_count": 6,
   "metadata": {},
   "outputs": [
    {
     "name": "stdout",
     "output_type": "stream",
     "text": [
      "2    646\n",
      "0    542\n",
      ".    277\n",
      "1    262\n",
      "3     56\n",
      "Name: hy, dtype: int64\n"
     ]
    }
   ],
   "source": [
    "years_stages_counts = years_df[\"hy\"].value_counts()\n",
    "print(years_stages_counts)"
   ]
  },
  {
   "cell_type": "code",
   "execution_count": 7,
   "metadata": {},
   "outputs": [
    {
     "name": "stdout",
     "output_type": "stream",
     "text": [
      "2    249\n",
      "1    216\n",
      "0    185\n",
      "3      3\n",
      ".      1\n",
      "Name: hy, dtype: int64\n"
     ]
    }
   ],
   "source": [
    "baseline_stages_counts = baseline_df[\"hy\"].value_counts()\n",
    "print(baseline_stages_counts)"
   ]
  },
  {
   "cell_type": "code",
   "execution_count": 8,
   "metadata": {},
   "outputs": [
    {
     "name": "stdout",
     "output_type": "stream",
     "text": [
      "     PATNO duration bl_hy y1_hy y2_hy y3_hy\n",
      "0     4096      2.3     1     2     2     1\n",
      "1     4098        6     2     2     2     2\n",
      "2     4099   2.7667     2     2     2     2\n",
      "3     4100        .     0     0     0     0\n",
      "4     4101   2.6333     2     2     2     2\n",
      "5     4102   1.5667     2     2     2     2\n",
      "6     4103   7.1333     1     1     0     2\n",
      "7     4104        .     0     0     0     0\n",
      "8     4105        .     0     0     0     0\n",
      "9     4106      2.7     2     2     2     1\n",
      "10    4107   0.9333     2     2     2     2\n",
      "11    4108   3.0333     2     2     2     2\n",
      "12    4109   2.9667     1     2     2     2\n",
      "13    4110   2.5667     2     2     2     2\n",
      "14    4111   2.2667     2     2     2     2\n",
      "15    4112      3.3     1     1     1     2\n",
      "16    4113     22.5     1     2     2     2\n",
      "17    4114      2.6     2     2     2     .\n",
      "18    4115   2.1667     2     2     2     2\n",
      "19    4116        .     0     0     0     0\n",
      "20    4117   2.8333     1     1     1     1\n",
      "21    4118        .     0     0     0     0\n",
      "22    4120  13.7667     2     2     2     .\n",
      "23    4121  12.9667     2     2     2     3\n",
      "24    4122   4.2333     2     2     2     .\n",
      "25    4123   4.2667     2     2     2     2\n",
      "26    4124   3.9667     2     2     2     2\n",
      "27    4125   2.5667     2     .     2     .\n",
      "28    4126      2.8     2     .     2     2\n",
      "29    4127   1.1333     2     2     2     .\n",
      "..     ...      ...   ...   ...   ...   ...\n",
      "624   4053   1.1333     1     1     0     .\n",
      "625   4054   2.5333     1     2     2     2\n",
      "626   4055      3.6     1     2     2     2\n",
      "627   4056   1.3667     1     2     1     2\n",
      "628   4057   3.7333     1     2     1     2\n",
      "629   4058      2.1     2     2     2     2\n",
      "630   4059   1.8333     1     2     2     2\n",
      "631   4064   3.8667     2     0     2     .\n",
      "632   4065   7.1667     2     1     .     .\n",
      "633   4067        .     0     0     0     0\n",
      "634   4070  22.3333     2     .     2     .\n",
      "635   4071  11.6667     2     .     2     2\n",
      "636   4072        9     2     .     2     2\n",
      "637   4073   5.9333     2     2     .     2\n",
      "638   4074   3.0333     2     2     2     .\n",
      "639   4076   3.9333     2     2     2     2\n",
      "640   4077   5.9333     2     2     2     2\n",
      "641   4078      4.4     2     2     2     .\n",
      "642   4079        .     .     0     .     .\n",
      "643   4081     17.5     2     2     2     2\n",
      "644   4082   5.4667     2     1     2     2\n",
      "645   4083   7.7333     1     1     1     2\n",
      "646   4084      4.6     1     1     1     .\n",
      "647   4085        .     0     0     0     0\n",
      "648   4086      1.1     2     2     1     .\n",
      "649   4090        .     0     0     0     0\n",
      "650   4091     14.8     2     2     2     2\n",
      "651   4092   1.3667     1     3     2     2\n",
      "652   4093   3.1333     1     2     2     2\n",
      "653   4094        5     1     2     2     2\n",
      "\n",
      "[654 rows x 6 columns]\n"
     ]
    }
   ],
   "source": [
    "# stage_df = pd.DataFrame(columns=['PATNO', 'bl_hy', 'y1_hy', 'y2_hy', 'y3_hy'])\n",
    "\n",
    "def stage_row(patno):\n",
    "    dur = baseline_df[baseline_df['PATNO'] == patno]['duration'].iloc[0]\n",
    "    bl_hy = baseline_df[baseline_df['PATNO'] == patno]['hy'].iloc[0]\n",
    "    \n",
    "    years_rows = years_df[years_df['PATNO'] == patno]\n",
    "    \n",
    "    y1 = years_rows[years_rows['YEAR'] == 1]\n",
    "    if (y1.shape[0] > 0):\n",
    "        y1_hy = y1['hy'].iloc[0]\n",
    "    else:\n",
    "        y1_hy = '.'\n",
    "        \n",
    "    y2 = years_rows[years_rows['YEAR'] == 2]\n",
    "    if (y2.shape[0] > 0):\n",
    "        y2_hy = y2['hy'].iloc[0]\n",
    "    else:\n",
    "        y2_hy = '.'\n",
    "        \n",
    "    y3 = years_rows[years_rows['YEAR'] == 3]\n",
    "    if (y3.shape[0] > 0):\n",
    "        y3_hy = y3['hy'].iloc[0]\n",
    "    else:\n",
    "        y3_hy = '.'\n",
    "    \n",
    "    new_row = pd.DataFrame([[patno, dur, bl_hy, y1_hy, y2_hy, y3_hy]])\n",
    "    return new_row\n",
    "\n",
    "stage_df = pd.concat([stage_row(i) for i in stage_data_ids], ignore_index=True)\n",
    "stage_df.columns = ['PATNO', 'duration', 'bl_hy', 'y1_hy', 'y2_hy', 'y3_hy']\n",
    "\n",
    "print(stage_df)\n",
    "\n"
   ]
  },
  {
   "cell_type": "code",
   "execution_count": 9,
   "metadata": {},
   "outputs": [
    {
     "name": "stdout",
     "output_type": "stream",
     "text": [
      "(23, 6)\n",
      "     PATNO duration bl_hy y1_hy y2_hy y3_hy\n",
      "23    4121  12.9667     2     2     2     3\n",
      "48    3020   3.0333     2     2     3     3\n",
      "49    3021   3.0333     2     2     .     3\n",
      "64    3058      4.8     2     2     2     3\n",
      "65    3059     15.4     2     .     3     3\n",
      "79    3076  16.5333     2     2     2     3\n",
      "80    3077     11.5     2     3     3     3\n",
      "83    3080   2.4333     2     .     3     3\n",
      "132   3168  35.8333     2     3     3     3\n",
      "141   3178  11.5333     2     2     3     3\n",
      "142   3179   3.8667     2     2     2     3\n",
      "143   3180      3.5     2     3     2     3\n",
      "148   3185   3.1667     1     3     2     3\n",
      "152   3190   5.5667     1     1     3     3\n",
      "179   3229   8.5667     1     2     2     3\n",
      "216   3308   5.9667     1     1     1     3\n",
      "235   3332   1.9667     1     3     2     3\n",
      "277   3403      3.7     1     2     3     3\n",
      "339   3476   0.9667     2     2     2     3\n",
      "354   3514     26.1     2     1     .     3\n",
      "536   3831      4.4     1     .     .     3\n",
      "556   3866   2.3667     2     3     3     3\n",
      "574   3916      9.8     2     3     2     3\n"
     ]
    }
   ],
   "source": [
    "stage_df_end3 = stage_df[stage_df['y3_hy'] == '3']\n",
    "print(stage_df_end3.shape)\n",
    "print(stage_df_end3)"
   ]
  },
  {
   "cell_type": "code",
   "execution_count": 11,
   "metadata": {},
   "outputs": [
    {
     "name": "stdout",
     "output_type": "stream",
     "text": [
      "38 1 427\n"
     ]
    }
   ],
   "source": [
    "def subtype_by_prog(months):\n",
    "    fast_ids = []\n",
    "    slow_ids = []\n",
    "    mild_ids = []\n",
    "    \n",
    "    for i,row in stage_df.iterrows():\n",
    "        if row['duration'] == '.':\n",
    "            continue\n",
    "        \n",
    "        dur = float(row['duration'])\n",
    "        reach_3 = False\n",
    "        if row['bl_hy'] != '3':\n",
    "            dur += 12\n",
    "            if row['y1_hy'] != '3':\n",
    "                dur += 12\n",
    "                if row['y2_hy'] != '3':\n",
    "                    dur += 12\n",
    "                    if row['y3_hy'] == '3':\n",
    "                        reach_3 = True\n",
    "                else:\n",
    "                    reach_3 = True\n",
    "            else:\n",
    "                reach_3 = True\n",
    "        else:\n",
    "            reach_3 = True\n",
    "        \n",
    "        if not reach_3:\n",
    "            mild_ids.append(row['PATNO'])\n",
    "        else:\n",
    "            if dur < months:\n",
    "                fast_ids.append(row['PATNO'])\n",
    "            else:\n",
    "                slow_ids.append(row['PATNO'])\n",
    "    \n",
    "    print(len(fast_ids), len(slow_ids), len(mild_ids))\n",
    "    return (fast_ids, slow_ids, mild_ids)\n",
    "        \n",
    "fast_ids, slow_ids, mild_ids = subtype_by_prog(60)"
   ]
  },
  {
   "cell_type": "code",
   "execution_count": 15,
   "metadata": {},
   "outputs": [
    {
     "name": "stdout",
     "output_type": "stream",
     "text": [
      "(282, 12)\n",
      "(3857, 12)\n"
     ]
    }
   ],
   "source": [
    "mri_fast = mri_df[mri_df['Subject'].isin(fast_ids)]\n",
    "mri_slow = mri_df[mri_df['Subject'].isin(slow_ids + mild_ids)]\n",
    "print(mri_fast.shape)\n",
    "print(mri_slow.shape)"
   ]
  },
  {
   "cell_type": "code",
   "execution_count": null,
   "metadata": {},
   "outputs": [],
   "source": []
  }
 ],
 "metadata": {
  "kernelspec": {
   "display_name": "Python 3",
   "language": "python",
   "name": "python3"
  },
  "language_info": {
   "codemirror_mode": {
    "name": "ipython",
    "version": 3
   },
   "file_extension": ".py",
   "mimetype": "text/x-python",
   "name": "python",
   "nbconvert_exporter": "python",
   "pygments_lexer": "ipython3",
   "version": "3.7.0"
  }
 },
 "nbformat": 4,
 "nbformat_minor": 2
}
