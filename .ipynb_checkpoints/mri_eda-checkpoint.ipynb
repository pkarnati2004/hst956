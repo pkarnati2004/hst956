{
 "cells": [
  {
   "cell_type": "code",
   "execution_count": 3,
   "metadata": {},
   "outputs": [],
   "source": [
    "import pandas as pd"
   ]
  },
  {
   "cell_type": "code",
   "execution_count": 4,
   "metadata": {},
   "outputs": [],
   "source": [
    "mri = pd.read_csv('idaSearch_4_18_2019_2.csv')"
   ]
  },
  {
   "cell_type": "code",
   "execution_count": 5,
   "metadata": {},
   "outputs": [
    {
     "data": {
      "text/html": [
       "<div>\n",
       "<style scoped>\n",
       "    .dataframe tbody tr th:only-of-type {\n",
       "        vertical-align: middle;\n",
       "    }\n",
       "\n",
       "    .dataframe tbody tr th {\n",
       "        vertical-align: top;\n",
       "    }\n",
       "\n",
       "    .dataframe thead th {\n",
       "        text-align: right;\n",
       "    }\n",
       "</style>\n",
       "<table border=\"1\" class=\"dataframe\">\n",
       "  <thead>\n",
       "    <tr style=\"text-align: right;\">\n",
       "      <th></th>\n",
       "      <th>Subject ID</th>\n",
       "      <th>Sex</th>\n",
       "      <th>Age</th>\n",
       "      <th>Description</th>\n",
       "      <th>Type</th>\n",
       "    </tr>\n",
       "  </thead>\n",
       "  <tbody>\n",
       "    <tr>\n",
       "      <th>0</th>\n",
       "      <td>15761</td>\n",
       "      <td>F</td>\n",
       "      <td>69.6</td>\n",
       "      <td>T1-anatomical &lt;- SAG MPRAGE GRAPPA</td>\n",
       "      <td>Processed</td>\n",
       "    </tr>\n",
       "    <tr>\n",
       "      <th>1</th>\n",
       "      <td>15761</td>\n",
       "      <td>F</td>\n",
       "      <td>69.6</td>\n",
       "      <td>T2 in T1-anatomical space &lt;- SAG MPRAGE GRAPPA</td>\n",
       "      <td>Processed</td>\n",
       "    </tr>\n",
       "    <tr>\n",
       "      <th>2</th>\n",
       "      <td>15761</td>\n",
       "      <td>F</td>\n",
       "      <td>69.6</td>\n",
       "      <td>T2 in corrected EPI space for I449529 &lt;- Axial...</td>\n",
       "      <td>Processed</td>\n",
       "    </tr>\n",
       "    <tr>\n",
       "      <th>3</th>\n",
       "      <td>17608</td>\n",
       "      <td>M</td>\n",
       "      <td>60.8</td>\n",
       "      <td>T2 in corrected EPI space for I473072 &lt;- Axial...</td>\n",
       "      <td>Processed</td>\n",
       "    </tr>\n",
       "    <tr>\n",
       "      <th>4</th>\n",
       "      <td>17608</td>\n",
       "      <td>M</td>\n",
       "      <td>60.8</td>\n",
       "      <td>T1-anatomical &lt;- SAG MPRAGE GRAPPA</td>\n",
       "      <td>Processed</td>\n",
       "    </tr>\n",
       "  </tbody>\n",
       "</table>\n",
       "</div>"
      ],
      "text/plain": [
       "   Subject ID Sex   Age                                        Description  \\\n",
       "0       15761   F  69.6                 T1-anatomical <- SAG MPRAGE GRAPPA   \n",
       "1       15761   F  69.6     T2 in T1-anatomical space <- SAG MPRAGE GRAPPA   \n",
       "2       15761   F  69.6  T2 in corrected EPI space for I449529 <- Axial...   \n",
       "3       17608   M  60.8  T2 in corrected EPI space for I473072 <- Axial...   \n",
       "4       17608   M  60.8                 T1-anatomical <- SAG MPRAGE GRAPPA   \n",
       "\n",
       "        Type  \n",
       "0  Processed  \n",
       "1  Processed  \n",
       "2  Processed  \n",
       "3  Processed  \n",
       "4  Processed  "
      ]
     },
     "execution_count": 5,
     "metadata": {},
     "output_type": "execute_result"
    }
   ],
   "source": [
    "mri.head(5)"
   ]
  },
  {
   "cell_type": "code",
   "execution_count": 6,
   "metadata": {},
   "outputs": [],
   "source": [
    "vals = mri['Subject ID'].value_counts()"
   ]
  },
  {
   "cell_type": "code",
   "execution_count": null,
   "metadata": {},
   "outputs": [],
   "source": []
  },
  {
   "cell_type": "code",
   "execution_count": 7,
   "metadata": {},
   "outputs": [
    {
     "data": {
      "text/html": [
       "<div>\n",
       "<style scoped>\n",
       "    .dataframe tbody tr th:only-of-type {\n",
       "        vertical-align: middle;\n",
       "    }\n",
       "\n",
       "    .dataframe tbody tr th {\n",
       "        vertical-align: top;\n",
       "    }\n",
       "\n",
       "    .dataframe thead th {\n",
       "        text-align: right;\n",
       "    }\n",
       "</style>\n",
       "<table border=\"1\" class=\"dataframe\">\n",
       "  <thead>\n",
       "    <tr style=\"text-align: right;\">\n",
       "      <th></th>\n",
       "      <th>Subject ID</th>\n",
       "      <th>Sex</th>\n",
       "      <th>Age</th>\n",
       "      <th>Description</th>\n",
       "      <th>Type</th>\n",
       "    </tr>\n",
       "  </thead>\n",
       "  <tbody>\n",
       "    <tr>\n",
       "      <th>1053</th>\n",
       "      <td>3559</td>\n",
       "      <td>M</td>\n",
       "      <td>38.0</td>\n",
       "      <td>T2 in corrected EPI space for I243798 &lt;- Axial...</td>\n",
       "      <td>Processed</td>\n",
       "    </tr>\n",
       "    <tr>\n",
       "      <th>1054</th>\n",
       "      <td>3559</td>\n",
       "      <td>M</td>\n",
       "      <td>38.0</td>\n",
       "      <td>T2 in corrected EPI space for I243797 &lt;- Axial...</td>\n",
       "      <td>Processed</td>\n",
       "    </tr>\n",
       "    <tr>\n",
       "      <th>1055</th>\n",
       "      <td>3559</td>\n",
       "      <td>M</td>\n",
       "      <td>38.0</td>\n",
       "      <td>T1-anatomical &lt;- MPRAGE GRAPPA</td>\n",
       "      <td>Processed</td>\n",
       "    </tr>\n",
       "    <tr>\n",
       "      <th>1056</th>\n",
       "      <td>3559</td>\n",
       "      <td>M</td>\n",
       "      <td>38.0</td>\n",
       "      <td>T2 in T1-anatomical space &lt;- MPRAGE GRAPPA</td>\n",
       "      <td>Processed</td>\n",
       "    </tr>\n",
       "    <tr>\n",
       "      <th>1057</th>\n",
       "      <td>3559</td>\n",
       "      <td>M</td>\n",
       "      <td>39.0</td>\n",
       "      <td>T2 in corrected EPI space for I307335 &lt;- Axial...</td>\n",
       "      <td>Processed</td>\n",
       "    </tr>\n",
       "    <tr>\n",
       "      <th>1058</th>\n",
       "      <td>3559</td>\n",
       "      <td>M</td>\n",
       "      <td>39.0</td>\n",
       "      <td>T2 in corrected EPI space for I307337 &lt;- Axial...</td>\n",
       "      <td>Processed</td>\n",
       "    </tr>\n",
       "    <tr>\n",
       "      <th>1059</th>\n",
       "      <td>3559</td>\n",
       "      <td>M</td>\n",
       "      <td>39.0</td>\n",
       "      <td>T2 in T1-anatomical space &lt;- MPRAGE GRAPPA</td>\n",
       "      <td>Processed</td>\n",
       "    </tr>\n",
       "    <tr>\n",
       "      <th>1060</th>\n",
       "      <td>3559</td>\n",
       "      <td>M</td>\n",
       "      <td>39.0</td>\n",
       "      <td>T1-anatomical &lt;- MPRAGE GRAPPA</td>\n",
       "      <td>Processed</td>\n",
       "    </tr>\n",
       "    <tr>\n",
       "      <th>1061</th>\n",
       "      <td>3559</td>\n",
       "      <td>M</td>\n",
       "      <td>40.0</td>\n",
       "      <td>T2 in corrected EPI space for I372356 &lt;- Axial...</td>\n",
       "      <td>Processed</td>\n",
       "    </tr>\n",
       "    <tr>\n",
       "      <th>1062</th>\n",
       "      <td>3559</td>\n",
       "      <td>M</td>\n",
       "      <td>40.0</td>\n",
       "      <td>T1-anatomical &lt;- MPRAGE GRAPPA</td>\n",
       "      <td>Processed</td>\n",
       "    </tr>\n",
       "    <tr>\n",
       "      <th>1063</th>\n",
       "      <td>3559</td>\n",
       "      <td>M</td>\n",
       "      <td>40.0</td>\n",
       "      <td>T2 in T1-anatomical space &lt;- MPRAGE GRAPPA</td>\n",
       "      <td>Processed</td>\n",
       "    </tr>\n",
       "    <tr>\n",
       "      <th>1064</th>\n",
       "      <td>3559</td>\n",
       "      <td>M</td>\n",
       "      <td>42.0</td>\n",
       "      <td>T2 in T1-anatomical space &lt;- MPRAGE GRAPPA</td>\n",
       "      <td>Processed</td>\n",
       "    </tr>\n",
       "    <tr>\n",
       "      <th>1065</th>\n",
       "      <td>3559</td>\n",
       "      <td>M</td>\n",
       "      <td>42.0</td>\n",
       "      <td>T1-anatomical &lt;- MPRAGE GRAPPA</td>\n",
       "      <td>Processed</td>\n",
       "    </tr>\n",
       "    <tr>\n",
       "      <th>1066</th>\n",
       "      <td>3559</td>\n",
       "      <td>M</td>\n",
       "      <td>42.0</td>\n",
       "      <td>T2 in corrected EPI space for I491603 &lt;- Axial...</td>\n",
       "      <td>Processed</td>\n",
       "    </tr>\n",
       "  </tbody>\n",
       "</table>\n",
       "</div>"
      ],
      "text/plain": [
       "      Subject ID Sex   Age                                        Description  \\\n",
       "1053        3559   M  38.0  T2 in corrected EPI space for I243798 <- Axial...   \n",
       "1054        3559   M  38.0  T2 in corrected EPI space for I243797 <- Axial...   \n",
       "1055        3559   M  38.0                     T1-anatomical <- MPRAGE GRAPPA   \n",
       "1056        3559   M  38.0         T2 in T1-anatomical space <- MPRAGE GRAPPA   \n",
       "1057        3559   M  39.0  T2 in corrected EPI space for I307335 <- Axial...   \n",
       "1058        3559   M  39.0  T2 in corrected EPI space for I307337 <- Axial...   \n",
       "1059        3559   M  39.0         T2 in T1-anatomical space <- MPRAGE GRAPPA   \n",
       "1060        3559   M  39.0                     T1-anatomical <- MPRAGE GRAPPA   \n",
       "1061        3559   M  40.0  T2 in corrected EPI space for I372356 <- Axial...   \n",
       "1062        3559   M  40.0                     T1-anatomical <- MPRAGE GRAPPA   \n",
       "1063        3559   M  40.0         T2 in T1-anatomical space <- MPRAGE GRAPPA   \n",
       "1064        3559   M  42.0         T2 in T1-anatomical space <- MPRAGE GRAPPA   \n",
       "1065        3559   M  42.0                     T1-anatomical <- MPRAGE GRAPPA   \n",
       "1066        3559   M  42.0  T2 in corrected EPI space for I491603 <- Axial...   \n",
       "\n",
       "           Type  \n",
       "1053  Processed  \n",
       "1054  Processed  \n",
       "1055  Processed  \n",
       "1056  Processed  \n",
       "1057  Processed  \n",
       "1058  Processed  \n",
       "1059  Processed  \n",
       "1060  Processed  \n",
       "1061  Processed  \n",
       "1062  Processed  \n",
       "1063  Processed  \n",
       "1064  Processed  \n",
       "1065  Processed  \n",
       "1066  Processed  "
      ]
     },
     "execution_count": 7,
     "metadata": {},
     "output_type": "execute_result"
    }
   ],
   "source": [
    "mri.loc[mri['Subject ID'] == 3559]"
   ]
  },
  {
   "cell_type": "code",
   "execution_count": 8,
   "metadata": {},
   "outputs": [
    {
     "data": {
      "text/plain": [
       "<matplotlib.axes._subplots.AxesSubplot at 0x11140f2e8>"
      ]
     },
     "execution_count": 8,
     "metadata": {},
     "output_type": "execute_result"
    }
   ],
   "source": [
    "vals.hist(bins=40)"
   ]
  },
  {
   "cell_type": "code",
   "execution_count": 10,
   "metadata": {},
   "outputs": [],
   "source": [
    "new_mri = mri.loc[mri['Description'].str.contains('T2 in T1-anatomical')]"
   ]
  },
  {
   "cell_type": "code",
   "execution_count": 11,
   "metadata": {},
   "outputs": [
    {
     "data": {
      "text/plain": [
       "[Text(0,0.5,'Number of Patients'), Text(0.5,0,'Number of Time Points')]"
      ]
     },
     "execution_count": 11,
     "metadata": {},
     "output_type": "execute_result"
    },
    {
     "data": {
      "image/png": "[encoded data removed]",
      "text/plain": [
       "<matplotlib.figure.Figure at 0x1121770f0>"
      ]
     },
     "metadata": {},
     "output_type": "display_data"
    }
   ],
   "source": [
    "new_mri['Subject ID'].value_counts().hist(bins=15).set(xlabel='Number of Time Points', ylabel='Number of Patients')"
   ]
  },
  {
   "cell_type": "code",
   "execution_count": null,
   "metadata": {},
   "outputs": [],
   "source": []
  }
 ],
 "metadata": {
  "kernelspec": {
   "display_name": "Python 3",
   "language": "python",
   "name": "python3"
  },
  "language_info": {
   "codemirror_mode": {
    "name": "ipython",
    "version": 3
   },
   "file_extension": ".py",
   "mimetype": "text/x-python",
   "name": "python",
   "nbconvert_exporter": "python",
   "pygments_lexer": "ipython3",
   "version": "3.6.0"
  }
 },
 "nbformat": 4,
 "nbformat_minor": 2
}
